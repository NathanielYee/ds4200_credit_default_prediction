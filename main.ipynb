{
 "cells": [
  {
   "metadata": {},
   "cell_type": "markdown",
   "source": [
    "### Welcome to our Credit Default Risk Prediction Model\n",
    "#### Team Members: Blythe Berlinger, Luke Brothers, Annie Peak, and Nathaniel Yee\n",
    "#### Date: November 14th, 2024\n",
    "#### Group Number:\n",
    "#### Professor Yang"
   ],
   "id": "e4aa52ad75849fac"
  },
  {
   "metadata": {
    "ExecuteTime": {
     "end_time": "2024-11-14T23:08:49.066773Z",
     "start_time": "2024-11-14T23:08:49.064237Z"
    }
   },
   "cell_type": "code",
   "source": "",
   "id": "939339344e003088",
   "outputs": [],
   "execution_count": null
  },
  {
   "metadata": {
    "ExecuteTime": {
     "end_time": "2024-11-14T23:08:49.343374Z",
     "start_time": "2024-11-14T23:08:49.075259Z"
    }
   },
   "cell_type": "code",
   "source": [
    "import scipy\n",
    "import statsmodels as sm\n",
    "import sklearn as sk\n",
    "import numpy as np\n",
    "import altair as alt\n",
    "import seaborn as sns\n",
    "import plotly.express as px\n",
    "import pandas as pd\n",
    "from scipy.stats import dunnett"
   ],
   "id": "72701f8830a1e1b9",
   "outputs": [],
   "execution_count": 1
  },
  {
   "metadata": {
    "ExecuteTime": {
     "end_time": "2024-11-14T23:08:49.483377Z",
     "start_time": "2024-11-14T23:08:49.440272Z"
    }
   },
   "cell_type": "code",
   "source": [
    "# Load in the data using pandas\n",
    "cdr_file = 'credit_risk_dataset.csv'\n",
    "cdr_data = pd.read_csv(cdr_file)\n",
    "# Remove data points that are missing values\n",
    "cdr_data_clean = cdr_data.dropna()\n",
    "cdr_data_clean.sort_values('loan_grade',ascending=True)\n",
    "\n",
    "cdr_data_clean"
   ],
   "id": "6c191798c0adf1ea",
   "outputs": [
    {
     "data": {
      "text/plain": [
       "       person_age  person_income person_home_ownership  person_emp_length  \\\n",
       "0              22          59000                  RENT              123.0   \n",
       "1              21           9600                   OWN                5.0   \n",
       "2              25           9600              MORTGAGE                1.0   \n",
       "3              23          65500                  RENT                4.0   \n",
       "4              24          54400                  RENT                8.0   \n",
       "...           ...            ...                   ...                ...   \n",
       "32576          57          53000              MORTGAGE                1.0   \n",
       "32577          54         120000              MORTGAGE                4.0   \n",
       "32578          65          76000                  RENT                3.0   \n",
       "32579          56         150000              MORTGAGE                5.0   \n",
       "32580          66          42000                  RENT                2.0   \n",
       "\n",
       "           loan_intent loan_grade  loan_amnt  loan_int_rate  loan_status  \\\n",
       "0             PERSONAL          D      35000          16.02            1   \n",
       "1            EDUCATION          B       1000          11.14            0   \n",
       "2              MEDICAL          C       5500          12.87            1   \n",
       "3              MEDICAL          C      35000          15.23            1   \n",
       "4              MEDICAL          C      35000          14.27            1   \n",
       "...                ...        ...        ...            ...          ...   \n",
       "32576         PERSONAL          C       5800          13.16            0   \n",
       "32577         PERSONAL          A      17625           7.49            0   \n",
       "32578  HOMEIMPROVEMENT          B      35000          10.99            1   \n",
       "32579         PERSONAL          B      15000          11.48            0   \n",
       "32580          MEDICAL          B       6475           9.99            0   \n",
       "\n",
       "       loan_percent_income cb_person_default_on_file  \\\n",
       "0                     0.59                         Y   \n",
       "1                     0.10                         N   \n",
       "2                     0.57                         N   \n",
       "3                     0.53                         N   \n",
       "4                     0.55                         Y   \n",
       "...                    ...                       ...   \n",
       "32576                 0.11                         N   \n",
       "32577                 0.15                         N   \n",
       "32578                 0.46                         N   \n",
       "32579                 0.10                         N   \n",
       "32580                 0.15                         N   \n",
       "\n",
       "       cb_person_cred_hist_length  \n",
       "0                               3  \n",
       "1                               2  \n",
       "2                               3  \n",
       "3                               2  \n",
       "4                               4  \n",
       "...                           ...  \n",
       "32576                          30  \n",
       "32577                          19  \n",
       "32578                          28  \n",
       "32579                          26  \n",
       "32580                          30  \n",
       "\n",
       "[28638 rows x 12 columns]"
      ],
      "text/html": [
       "<div>\n",
       "<style scoped>\n",
       "    .dataframe tbody tr th:only-of-type {\n",
       "        vertical-align: middle;\n",
       "    }\n",
       "\n",
       "    .dataframe tbody tr th {\n",
       "        vertical-align: top;\n",
       "    }\n",
       "\n",
       "    .dataframe thead th {\n",
       "        text-align: right;\n",
       "    }\n",
       "</style>\n",
       "<table border=\"1\" class=\"dataframe\">\n",
       "  <thead>\n",
       "    <tr style=\"text-align: right;\">\n",
       "      <th></th>\n",
       "      <th>person_age</th>\n",
       "      <th>person_income</th>\n",
       "      <th>person_home_ownership</th>\n",
       "      <th>person_emp_length</th>\n",
       "      <th>loan_intent</th>\n",
       "      <th>loan_grade</th>\n",
       "      <th>loan_amnt</th>\n",
       "      <th>loan_int_rate</th>\n",
       "      <th>loan_status</th>\n",
       "      <th>loan_percent_income</th>\n",
       "      <th>cb_person_default_on_file</th>\n",
       "      <th>cb_person_cred_hist_length</th>\n",
       "    </tr>\n",
       "  </thead>\n",
       "  <tbody>\n",
       "    <tr>\n",
       "      <th>0</th>\n",
       "      <td>22</td>\n",
       "      <td>59000</td>\n",
       "      <td>RENT</td>\n",
       "      <td>123.0</td>\n",
       "      <td>PERSONAL</td>\n",
       "      <td>D</td>\n",
       "      <td>35000</td>\n",
       "      <td>16.02</td>\n",
       "      <td>1</td>\n",
       "      <td>0.59</td>\n",
       "      <td>Y</td>\n",
       "      <td>3</td>\n",
       "    </tr>\n",
       "    <tr>\n",
       "      <th>1</th>\n",
       "      <td>21</td>\n",
       "      <td>9600</td>\n",
       "      <td>OWN</td>\n",
       "      <td>5.0</td>\n",
       "      <td>EDUCATION</td>\n",
       "      <td>B</td>\n",
       "      <td>1000</td>\n",
       "      <td>11.14</td>\n",
       "      <td>0</td>\n",
       "      <td>0.10</td>\n",
       "      <td>N</td>\n",
       "      <td>2</td>\n",
       "    </tr>\n",
       "    <tr>\n",
       "      <th>2</th>\n",
       "      <td>25</td>\n",
       "      <td>9600</td>\n",
       "      <td>MORTGAGE</td>\n",
       "      <td>1.0</td>\n",
       "      <td>MEDICAL</td>\n",
       "      <td>C</td>\n",
       "      <td>5500</td>\n",
       "      <td>12.87</td>\n",
       "      <td>1</td>\n",
       "      <td>0.57</td>\n",
       "      <td>N</td>\n",
       "      <td>3</td>\n",
       "    </tr>\n",
       "    <tr>\n",
       "      <th>3</th>\n",
       "      <td>23</td>\n",
       "      <td>65500</td>\n",
       "      <td>RENT</td>\n",
       "      <td>4.0</td>\n",
       "      <td>MEDICAL</td>\n",
       "      <td>C</td>\n",
       "      <td>35000</td>\n",
       "      <td>15.23</td>\n",
       "      <td>1</td>\n",
       "      <td>0.53</td>\n",
       "      <td>N</td>\n",
       "      <td>2</td>\n",
       "    </tr>\n",
       "    <tr>\n",
       "      <th>4</th>\n",
       "      <td>24</td>\n",
       "      <td>54400</td>\n",
       "      <td>RENT</td>\n",
       "      <td>8.0</td>\n",
       "      <td>MEDICAL</td>\n",
       "      <td>C</td>\n",
       "      <td>35000</td>\n",
       "      <td>14.27</td>\n",
       "      <td>1</td>\n",
       "      <td>0.55</td>\n",
       "      <td>Y</td>\n",
       "      <td>4</td>\n",
       "    </tr>\n",
       "    <tr>\n",
       "      <th>...</th>\n",
       "      <td>...</td>\n",
       "      <td>...</td>\n",
       "      <td>...</td>\n",
       "      <td>...</td>\n",
       "      <td>...</td>\n",
       "      <td>...</td>\n",
       "      <td>...</td>\n",
       "      <td>...</td>\n",
       "      <td>...</td>\n",
       "      <td>...</td>\n",
       "      <td>...</td>\n",
       "      <td>...</td>\n",
       "    </tr>\n",
       "    <tr>\n",
       "      <th>32576</th>\n",
       "      <td>57</td>\n",
       "      <td>53000</td>\n",
       "      <td>MORTGAGE</td>\n",
       "      <td>1.0</td>\n",
       "      <td>PERSONAL</td>\n",
       "      <td>C</td>\n",
       "      <td>5800</td>\n",
       "      <td>13.16</td>\n",
       "      <td>0</td>\n",
       "      <td>0.11</td>\n",
       "      <td>N</td>\n",
       "      <td>30</td>\n",
       "    </tr>\n",
       "    <tr>\n",
       "      <th>32577</th>\n",
       "      <td>54</td>\n",
       "      <td>120000</td>\n",
       "      <td>MORTGAGE</td>\n",
       "      <td>4.0</td>\n",
       "      <td>PERSONAL</td>\n",
       "      <td>A</td>\n",
       "      <td>17625</td>\n",
       "      <td>7.49</td>\n",
       "      <td>0</td>\n",
       "      <td>0.15</td>\n",
       "      <td>N</td>\n",
       "      <td>19</td>\n",
       "    </tr>\n",
       "    <tr>\n",
       "      <th>32578</th>\n",
       "      <td>65</td>\n",
       "      <td>76000</td>\n",
       "      <td>RENT</td>\n",
       "      <td>3.0</td>\n",
       "      <td>HOMEIMPROVEMENT</td>\n",
       "      <td>B</td>\n",
       "      <td>35000</td>\n",
       "      <td>10.99</td>\n",
       "      <td>1</td>\n",
       "      <td>0.46</td>\n",
       "      <td>N</td>\n",
       "      <td>28</td>\n",
       "    </tr>\n",
       "    <tr>\n",
       "      <th>32579</th>\n",
       "      <td>56</td>\n",
       "      <td>150000</td>\n",
       "      <td>MORTGAGE</td>\n",
       "      <td>5.0</td>\n",
       "      <td>PERSONAL</td>\n",
       "      <td>B</td>\n",
       "      <td>15000</td>\n",
       "      <td>11.48</td>\n",
       "      <td>0</td>\n",
       "      <td>0.10</td>\n",
       "      <td>N</td>\n",
       "      <td>26</td>\n",
       "    </tr>\n",
       "    <tr>\n",
       "      <th>32580</th>\n",
       "      <td>66</td>\n",
       "      <td>42000</td>\n",
       "      <td>RENT</td>\n",
       "      <td>2.0</td>\n",
       "      <td>MEDICAL</td>\n",
       "      <td>B</td>\n",
       "      <td>6475</td>\n",
       "      <td>9.99</td>\n",
       "      <td>0</td>\n",
       "      <td>0.15</td>\n",
       "      <td>N</td>\n",
       "      <td>30</td>\n",
       "    </tr>\n",
       "  </tbody>\n",
       "</table>\n",
       "<p>28638 rows × 12 columns</p>\n",
       "</div>"
      ]
     },
     "execution_count": 2,
     "metadata": {},
     "output_type": "execute_result"
    }
   ],
   "execution_count": 2
  },
  {
   "metadata": {
    "ExecuteTime": {
     "end_time": "2024-11-14T23:08:49.584428Z",
     "start_time": "2024-11-14T23:08:49.570805Z"
    }
   },
   "cell_type": "code",
   "source": "cdr_data_clean.describe()",
   "id": "74b15e299644d7f8",
   "outputs": [
    {
     "data": {
      "text/plain": [
       "         person_age  person_income  person_emp_length     loan_amnt  \\\n",
       "count  28638.000000   2.863800e+04       28638.000000  28638.000000   \n",
       "mean      27.727216   6.664937e+04           4.788672   9656.493121   \n",
       "std        6.310441   6.235645e+04           4.154627   6329.683361   \n",
       "min       20.000000   4.000000e+03           0.000000    500.000000   \n",
       "25%       23.000000   3.948000e+04           2.000000   5000.000000   \n",
       "50%       26.000000   5.595600e+04           4.000000   8000.000000   \n",
       "75%       30.000000   8.000000e+04           7.000000  12500.000000   \n",
       "max      144.000000   6.000000e+06         123.000000  35000.000000   \n",
       "\n",
       "       loan_int_rate   loan_status  loan_percent_income  \\\n",
       "count   28638.000000  28638.000000         28638.000000   \n",
       "mean       11.039867      0.216600             0.169488   \n",
       "std         3.229372      0.411935             0.106393   \n",
       "min         5.420000      0.000000             0.000000   \n",
       "25%         7.900000      0.000000             0.090000   \n",
       "50%        10.990000      0.000000             0.150000   \n",
       "75%        13.480000      0.000000             0.230000   \n",
       "max        23.220000      1.000000             0.830000   \n",
       "\n",
       "       cb_person_cred_hist_length  \n",
       "count                28638.000000  \n",
       "mean                     5.793736  \n",
       "std                      4.038483  \n",
       "min                      2.000000  \n",
       "25%                      3.000000  \n",
       "50%                      4.000000  \n",
       "75%                      8.000000  \n",
       "max                     30.000000  "
      ],
      "text/html": [
       "<div>\n",
       "<style scoped>\n",
       "    .dataframe tbody tr th:only-of-type {\n",
       "        vertical-align: middle;\n",
       "    }\n",
       "\n",
       "    .dataframe tbody tr th {\n",
       "        vertical-align: top;\n",
       "    }\n",
       "\n",
       "    .dataframe thead th {\n",
       "        text-align: right;\n",
       "    }\n",
       "</style>\n",
       "<table border=\"1\" class=\"dataframe\">\n",
       "  <thead>\n",
       "    <tr style=\"text-align: right;\">\n",
       "      <th></th>\n",
       "      <th>person_age</th>\n",
       "      <th>person_income</th>\n",
       "      <th>person_emp_length</th>\n",
       "      <th>loan_amnt</th>\n",
       "      <th>loan_int_rate</th>\n",
       "      <th>loan_status</th>\n",
       "      <th>loan_percent_income</th>\n",
       "      <th>cb_person_cred_hist_length</th>\n",
       "    </tr>\n",
       "  </thead>\n",
       "  <tbody>\n",
       "    <tr>\n",
       "      <th>count</th>\n",
       "      <td>28638.000000</td>\n",
       "      <td>2.863800e+04</td>\n",
       "      <td>28638.000000</td>\n",
       "      <td>28638.000000</td>\n",
       "      <td>28638.000000</td>\n",
       "      <td>28638.000000</td>\n",
       "      <td>28638.000000</td>\n",
       "      <td>28638.000000</td>\n",
       "    </tr>\n",
       "    <tr>\n",
       "      <th>mean</th>\n",
       "      <td>27.727216</td>\n",
       "      <td>6.664937e+04</td>\n",
       "      <td>4.788672</td>\n",
       "      <td>9656.493121</td>\n",
       "      <td>11.039867</td>\n",
       "      <td>0.216600</td>\n",
       "      <td>0.169488</td>\n",
       "      <td>5.793736</td>\n",
       "    </tr>\n",
       "    <tr>\n",
       "      <th>std</th>\n",
       "      <td>6.310441</td>\n",
       "      <td>6.235645e+04</td>\n",
       "      <td>4.154627</td>\n",
       "      <td>6329.683361</td>\n",
       "      <td>3.229372</td>\n",
       "      <td>0.411935</td>\n",
       "      <td>0.106393</td>\n",
       "      <td>4.038483</td>\n",
       "    </tr>\n",
       "    <tr>\n",
       "      <th>min</th>\n",
       "      <td>20.000000</td>\n",
       "      <td>4.000000e+03</td>\n",
       "      <td>0.000000</td>\n",
       "      <td>500.000000</td>\n",
       "      <td>5.420000</td>\n",
       "      <td>0.000000</td>\n",
       "      <td>0.000000</td>\n",
       "      <td>2.000000</td>\n",
       "    </tr>\n",
       "    <tr>\n",
       "      <th>25%</th>\n",
       "      <td>23.000000</td>\n",
       "      <td>3.948000e+04</td>\n",
       "      <td>2.000000</td>\n",
       "      <td>5000.000000</td>\n",
       "      <td>7.900000</td>\n",
       "      <td>0.000000</td>\n",
       "      <td>0.090000</td>\n",
       "      <td>3.000000</td>\n",
       "    </tr>\n",
       "    <tr>\n",
       "      <th>50%</th>\n",
       "      <td>26.000000</td>\n",
       "      <td>5.595600e+04</td>\n",
       "      <td>4.000000</td>\n",
       "      <td>8000.000000</td>\n",
       "      <td>10.990000</td>\n",
       "      <td>0.000000</td>\n",
       "      <td>0.150000</td>\n",
       "      <td>4.000000</td>\n",
       "    </tr>\n",
       "    <tr>\n",
       "      <th>75%</th>\n",
       "      <td>30.000000</td>\n",
       "      <td>8.000000e+04</td>\n",
       "      <td>7.000000</td>\n",
       "      <td>12500.000000</td>\n",
       "      <td>13.480000</td>\n",
       "      <td>0.000000</td>\n",
       "      <td>0.230000</td>\n",
       "      <td>8.000000</td>\n",
       "    </tr>\n",
       "    <tr>\n",
       "      <th>max</th>\n",
       "      <td>144.000000</td>\n",
       "      <td>6.000000e+06</td>\n",
       "      <td>123.000000</td>\n",
       "      <td>35000.000000</td>\n",
       "      <td>23.220000</td>\n",
       "      <td>1.000000</td>\n",
       "      <td>0.830000</td>\n",
       "      <td>30.000000</td>\n",
       "    </tr>\n",
       "  </tbody>\n",
       "</table>\n",
       "</div>"
      ]
     },
     "execution_count": 3,
     "metadata": {},
     "output_type": "execute_result"
    }
   ],
   "execution_count": 3
  },
  {
   "metadata": {
    "ExecuteTime": {
     "end_time": "2024-11-14T23:08:49.613021Z",
     "start_time": "2024-11-14T23:08:49.604912Z"
    }
   },
   "cell_type": "code",
   "source": "cdr_data_clean.info()",
   "id": "1b895f9d5a8c983b",
   "outputs": [
    {
     "name": "stdout",
     "output_type": "stream",
     "text": [
      "<class 'pandas.core.frame.DataFrame'>\n",
      "Index: 28638 entries, 0 to 32580\n",
      "Data columns (total 12 columns):\n",
      " #   Column                      Non-Null Count  Dtype  \n",
      "---  ------                      --------------  -----  \n",
      " 0   person_age                  28638 non-null  int64  \n",
      " 1   person_income               28638 non-null  int64  \n",
      " 2   person_home_ownership       28638 non-null  object \n",
      " 3   person_emp_length           28638 non-null  float64\n",
      " 4   loan_intent                 28638 non-null  object \n",
      " 5   loan_grade                  28638 non-null  object \n",
      " 6   loan_amnt                   28638 non-null  int64  \n",
      " 7   loan_int_rate               28638 non-null  float64\n",
      " 8   loan_status                 28638 non-null  int64  \n",
      " 9   loan_percent_income         28638 non-null  float64\n",
      " 10  cb_person_default_on_file   28638 non-null  object \n",
      " 11  cb_person_cred_hist_length  28638 non-null  int64  \n",
      "dtypes: float64(3), int64(5), object(4)\n",
      "memory usage: 2.8+ MB\n"
     ]
    }
   ],
   "execution_count": 4
  },
  {
   "metadata": {
    "ExecuteTime": {
     "end_time": "2024-11-14T23:08:49.691115Z",
     "start_time": "2024-11-14T23:08:49.685561Z"
    }
   },
   "cell_type": "code",
   "source": "cdr_data_clean.isnull().sum()",
   "id": "e6e4aea1ba32ea9d",
   "outputs": [
    {
     "data": {
      "text/plain": [
       "person_age                    0\n",
       "person_income                 0\n",
       "person_home_ownership         0\n",
       "person_emp_length             0\n",
       "loan_intent                   0\n",
       "loan_grade                    0\n",
       "loan_amnt                     0\n",
       "loan_int_rate                 0\n",
       "loan_status                   0\n",
       "loan_percent_income           0\n",
       "cb_person_default_on_file     0\n",
       "cb_person_cred_hist_length    0\n",
       "dtype: int64"
      ]
     },
     "execution_count": 5,
     "metadata": {},
     "output_type": "execute_result"
    }
   ],
   "execution_count": 5
  },
  {
   "metadata": {
    "ExecuteTime": {
     "end_time": "2024-11-14T23:08:49.737651Z",
     "start_time": "2024-11-14T23:08:49.729415Z"
    }
   },
   "cell_type": "code",
   "source": "cdr_data_clean.nunique()",
   "id": "ab7f812abfa8a7fc",
   "outputs": [
    {
     "data": {
      "text/plain": [
       "person_age                      57\n",
       "person_income                 3835\n",
       "person_home_ownership            4\n",
       "person_emp_length               36\n",
       "loan_intent                      6\n",
       "loan_grade                       7\n",
       "loan_amnt                      728\n",
       "loan_int_rate                  348\n",
       "loan_status                      2\n",
       "loan_percent_income             77\n",
       "cb_person_default_on_file        2\n",
       "cb_person_cred_hist_length      29\n",
       "dtype: int64"
      ]
     },
     "execution_count": 6,
     "metadata": {},
     "output_type": "execute_result"
    }
   ],
   "execution_count": 6
  },
  {
   "metadata": {
    "ExecuteTime": {
     "end_time": "2024-11-14T23:15:22.689267Z",
     "start_time": "2024-11-14T23:15:22.660315Z"
    }
   },
   "cell_type": "code",
   "source": [
    "# Visualize The Types of Loan Grades by Count\n",
    "cdr_data_clean_loan = cdr_data_clean['loan_grade'].value_counts().reset_index()\n",
    "print(cdr_data_clean_loan)\n",
    "fig = px.pie(\n",
    "    cdr_data_clean_loan,\n",
    "    values='count',\n",
    "    names='loan_grade',\n",
    "    title = 'Loan Grade Amounts',\n",
    "    color_discrete_sequence=px.colors.sequential.RdBu\n",
    ")\n",
    "fig.update_traces(textinfo='label+percent+value', textfont_size=13)\n",
    "fig.show()"
   ],
   "id": "755aa722c3738971",
   "outputs": [
    {
     "name": "stdout",
     "output_type": "stream",
     "text": [
      "  loan_grade  count\n",
      "0          A   9402\n",
      "1          B   9151\n",
      "2          C   5699\n",
      "3          D   3248\n",
      "4          E    870\n",
      "5          F    209\n",
      "6          G     59\n"
     ]
    },
    {
     "data": {
      "application/vnd.plotly.v1+json": {
       "data": [
        {
         "domain": {
          "x": [
           0.0,
           1.0
          ],
          "y": [
           0.0,
           1.0
          ]
         },
         "hovertemplate": "loan_grade=%{label}<br>count=%{value}<extra></extra>",
         "labels": [
          "A",
          "B",
          "C",
          "D",
          "E",
          "F",
          "G"
         ],
         "legendgroup": "",
         "name": "",
         "showlegend": true,
         "values": [
          9402,
          9151,
          5699,
          3248,
          870,
          209,
          59
         ],
         "type": "pie",
         "textfont": {
          "size": 13
         },
         "textinfo": "label+percent+value"
        }
       ],
       "layout": {
        "template": {
         "data": {
          "histogram2dcontour": [
           {
            "type": "histogram2dcontour",
            "colorbar": {
             "outlinewidth": 0,
             "ticks": ""
            },
            "colorscale": [
             [
              0.0,
              "#0d0887"
             ],
             [
              0.1111111111111111,
              "#46039f"
             ],
             [
              0.2222222222222222,
              "#7201a8"
             ],
             [
              0.3333333333333333,
              "#9c179e"
             ],
             [
              0.4444444444444444,
              "#bd3786"
             ],
             [
              0.5555555555555556,
              "#d8576b"
             ],
             [
              0.6666666666666666,
              "#ed7953"
             ],
             [
              0.7777777777777778,
              "#fb9f3a"
             ],
             [
              0.8888888888888888,
              "#fdca26"
             ],
             [
              1.0,
              "#f0f921"
             ]
            ]
           }
          ],
          "choropleth": [
           {
            "type": "choropleth",
            "colorbar": {
             "outlinewidth": 0,
             "ticks": ""
            }
           }
          ],
          "histogram2d": [
           {
            "type": "histogram2d",
            "colorbar": {
             "outlinewidth": 0,
             "ticks": ""
            },
            "colorscale": [
             [
              0.0,
              "#0d0887"
             ],
             [
              0.1111111111111111,
              "#46039f"
             ],
             [
              0.2222222222222222,
              "#7201a8"
             ],
             [
              0.3333333333333333,
              "#9c179e"
             ],
             [
              0.4444444444444444,
              "#bd3786"
             ],
             [
              0.5555555555555556,
              "#d8576b"
             ],
             [
              0.6666666666666666,
              "#ed7953"
             ],
             [
              0.7777777777777778,
              "#fb9f3a"
             ],
             [
              0.8888888888888888,
              "#fdca26"
             ],
             [
              1.0,
              "#f0f921"
             ]
            ]
           }
          ],
          "heatmap": [
           {
            "type": "heatmap",
            "colorbar": {
             "outlinewidth": 0,
             "ticks": ""
            },
            "colorscale": [
             [
              0.0,
              "#0d0887"
             ],
             [
              0.1111111111111111,
              "#46039f"
             ],
             [
              0.2222222222222222,
              "#7201a8"
             ],
             [
              0.3333333333333333,
              "#9c179e"
             ],
             [
              0.4444444444444444,
              "#bd3786"
             ],
             [
              0.5555555555555556,
              "#d8576b"
             ],
             [
              0.6666666666666666,
              "#ed7953"
             ],
             [
              0.7777777777777778,
              "#fb9f3a"
             ],
             [
              0.8888888888888888,
              "#fdca26"
             ],
             [
              1.0,
              "#f0f921"
             ]
            ]
           }
          ],
          "heatmapgl": [
           {
            "type": "heatmapgl",
            "colorbar": {
             "outlinewidth": 0,
             "ticks": ""
            },
            "colorscale": [
             [
              0.0,
              "#0d0887"
             ],
             [
              0.1111111111111111,
              "#46039f"
             ],
             [
              0.2222222222222222,
              "#7201a8"
             ],
             [
              0.3333333333333333,
              "#9c179e"
             ],
             [
              0.4444444444444444,
              "#bd3786"
             ],
             [
              0.5555555555555556,
              "#d8576b"
             ],
             [
              0.6666666666666666,
              "#ed7953"
             ],
             [
              0.7777777777777778,
              "#fb9f3a"
             ],
             [
              0.8888888888888888,
              "#fdca26"
             ],
             [
              1.0,
              "#f0f921"
             ]
            ]
           }
          ],
          "contourcarpet": [
           {
            "type": "contourcarpet",
            "colorbar": {
             "outlinewidth": 0,
             "ticks": ""
            }
           }
          ],
          "contour": [
           {
            "type": "contour",
            "colorbar": {
             "outlinewidth": 0,
             "ticks": ""
            },
            "colorscale": [
             [
              0.0,
              "#0d0887"
             ],
             [
              0.1111111111111111,
              "#46039f"
             ],
             [
              0.2222222222222222,
              "#7201a8"
             ],
             [
              0.3333333333333333,
              "#9c179e"
             ],
             [
              0.4444444444444444,
              "#bd3786"
             ],
             [
              0.5555555555555556,
              "#d8576b"
             ],
             [
              0.6666666666666666,
              "#ed7953"
             ],
             [
              0.7777777777777778,
              "#fb9f3a"
             ],
             [
              0.8888888888888888,
              "#fdca26"
             ],
             [
              1.0,
              "#f0f921"
             ]
            ]
           }
          ],
          "surface": [
           {
            "type": "surface",
            "colorbar": {
             "outlinewidth": 0,
             "ticks": ""
            },
            "colorscale": [
             [
              0.0,
              "#0d0887"
             ],
             [
              0.1111111111111111,
              "#46039f"
             ],
             [
              0.2222222222222222,
              "#7201a8"
             ],
             [
              0.3333333333333333,
              "#9c179e"
             ],
             [
              0.4444444444444444,
              "#bd3786"
             ],
             [
              0.5555555555555556,
              "#d8576b"
             ],
             [
              0.6666666666666666,
              "#ed7953"
             ],
             [
              0.7777777777777778,
              "#fb9f3a"
             ],
             [
              0.8888888888888888,
              "#fdca26"
             ],
             [
              1.0,
              "#f0f921"
             ]
            ]
           }
          ],
          "mesh3d": [
           {
            "type": "mesh3d",
            "colorbar": {
             "outlinewidth": 0,
             "ticks": ""
            }
           }
          ],
          "scatter": [
           {
            "fillpattern": {
             "fillmode": "overlay",
             "size": 10,
             "solidity": 0.2
            },
            "type": "scatter"
           }
          ],
          "parcoords": [
           {
            "type": "parcoords",
            "line": {
             "colorbar": {
              "outlinewidth": 0,
              "ticks": ""
             }
            }
           }
          ],
          "scatterpolargl": [
           {
            "type": "scatterpolargl",
            "marker": {
             "colorbar": {
              "outlinewidth": 0,
              "ticks": ""
             }
            }
           }
          ],
          "bar": [
           {
            "error_x": {
             "color": "#2a3f5f"
            },
            "error_y": {
             "color": "#2a3f5f"
            },
            "marker": {
             "line": {
              "color": "#E5ECF6",
              "width": 0.5
             },
             "pattern": {
              "fillmode": "overlay",
              "size": 10,
              "solidity": 0.2
             }
            },
            "type": "bar"
           }
          ],
          "scattergeo": [
           {
            "type": "scattergeo",
            "marker": {
             "colorbar": {
              "outlinewidth": 0,
              "ticks": ""
             }
            }
           }
          ],
          "scatterpolar": [
           {
            "type": "scatterpolar",
            "marker": {
             "colorbar": {
              "outlinewidth": 0,
              "ticks": ""
             }
            }
           }
          ],
          "histogram": [
           {
            "marker": {
             "pattern": {
              "fillmode": "overlay",
              "size": 10,
              "solidity": 0.2
             }
            },
            "type": "histogram"
           }
          ],
          "scattergl": [
           {
            "type": "scattergl",
            "marker": {
             "colorbar": {
              "outlinewidth": 0,
              "ticks": ""
             }
            }
           }
          ],
          "scatter3d": [
           {
            "type": "scatter3d",
            "line": {
             "colorbar": {
              "outlinewidth": 0,
              "ticks": ""
             }
            },
            "marker": {
             "colorbar": {
              "outlinewidth": 0,
              "ticks": ""
             }
            }
           }
          ],
          "scattermapbox": [
           {
            "type": "scattermapbox",
            "marker": {
             "colorbar": {
              "outlinewidth": 0,
              "ticks": ""
             }
            }
           }
          ],
          "scatterternary": [
           {
            "type": "scatterternary",
            "marker": {
             "colorbar": {
              "outlinewidth": 0,
              "ticks": ""
             }
            }
           }
          ],
          "scattercarpet": [
           {
            "type": "scattercarpet",
            "marker": {
             "colorbar": {
              "outlinewidth": 0,
              "ticks": ""
             }
            }
           }
          ],
          "carpet": [
           {
            "aaxis": {
             "endlinecolor": "#2a3f5f",
             "gridcolor": "white",
             "linecolor": "white",
             "minorgridcolor": "white",
             "startlinecolor": "#2a3f5f"
            },
            "baxis": {
             "endlinecolor": "#2a3f5f",
             "gridcolor": "white",
             "linecolor": "white",
             "minorgridcolor": "white",
             "startlinecolor": "#2a3f5f"
            },
            "type": "carpet"
           }
          ],
          "table": [
           {
            "cells": {
             "fill": {
              "color": "#EBF0F8"
             },
             "line": {
              "color": "white"
             }
            },
            "header": {
             "fill": {
              "color": "#C8D4E3"
             },
             "line": {
              "color": "white"
             }
            },
            "type": "table"
           }
          ],
          "barpolar": [
           {
            "marker": {
             "line": {
              "color": "#E5ECF6",
              "width": 0.5
             },
             "pattern": {
              "fillmode": "overlay",
              "size": 10,
              "solidity": 0.2
             }
            },
            "type": "barpolar"
           }
          ],
          "pie": [
           {
            "automargin": true,
            "type": "pie"
           }
          ]
         },
         "layout": {
          "autotypenumbers": "strict",
          "colorway": [
           "#636efa",
           "#EF553B",
           "#00cc96",
           "#ab63fa",
           "#FFA15A",
           "#19d3f3",
           "#FF6692",
           "#B6E880",
           "#FF97FF",
           "#FECB52"
          ],
          "font": {
           "color": "#2a3f5f"
          },
          "hovermode": "closest",
          "hoverlabel": {
           "align": "left"
          },
          "paper_bgcolor": "white",
          "plot_bgcolor": "#E5ECF6",
          "polar": {
           "bgcolor": "#E5ECF6",
           "angularaxis": {
            "gridcolor": "white",
            "linecolor": "white",
            "ticks": ""
           },
           "radialaxis": {
            "gridcolor": "white",
            "linecolor": "white",
            "ticks": ""
           }
          },
          "ternary": {
           "bgcolor": "#E5ECF6",
           "aaxis": {
            "gridcolor": "white",
            "linecolor": "white",
            "ticks": ""
           },
           "baxis": {
            "gridcolor": "white",
            "linecolor": "white",
            "ticks": ""
           },
           "caxis": {
            "gridcolor": "white",
            "linecolor": "white",
            "ticks": ""
           }
          },
          "coloraxis": {
           "colorbar": {
            "outlinewidth": 0,
            "ticks": ""
           }
          },
          "colorscale": {
           "sequential": [
            [
             0.0,
             "#0d0887"
            ],
            [
             0.1111111111111111,
             "#46039f"
            ],
            [
             0.2222222222222222,
             "#7201a8"
            ],
            [
             0.3333333333333333,
             "#9c179e"
            ],
            [
             0.4444444444444444,
             "#bd3786"
            ],
            [
             0.5555555555555556,
             "#d8576b"
            ],
            [
             0.6666666666666666,
             "#ed7953"
            ],
            [
             0.7777777777777778,
             "#fb9f3a"
            ],
            [
             0.8888888888888888,
             "#fdca26"
            ],
            [
             1.0,
             "#f0f921"
            ]
           ],
           "sequentialminus": [
            [
             0.0,
             "#0d0887"
            ],
            [
             0.1111111111111111,
             "#46039f"
            ],
            [
             0.2222222222222222,
             "#7201a8"
            ],
            [
             0.3333333333333333,
             "#9c179e"
            ],
            [
             0.4444444444444444,
             "#bd3786"
            ],
            [
             0.5555555555555556,
             "#d8576b"
            ],
            [
             0.6666666666666666,
             "#ed7953"
            ],
            [
             0.7777777777777778,
             "#fb9f3a"
            ],
            [
             0.8888888888888888,
             "#fdca26"
            ],
            [
             1.0,
             "#f0f921"
            ]
           ],
           "diverging": [
            [
             0,
             "#8e0152"
            ],
            [
             0.1,
             "#c51b7d"
            ],
            [
             0.2,
             "#de77ae"
            ],
            [
             0.3,
             "#f1b6da"
            ],
            [
             0.4,
             "#fde0ef"
            ],
            [
             0.5,
             "#f7f7f7"
            ],
            [
             0.6,
             "#e6f5d0"
            ],
            [
             0.7,
             "#b8e186"
            ],
            [
             0.8,
             "#7fbc41"
            ],
            [
             0.9,
             "#4d9221"
            ],
            [
             1,
             "#276419"
            ]
           ]
          },
          "xaxis": {
           "gridcolor": "white",
           "linecolor": "white",
           "ticks": "",
           "title": {
            "standoff": 15
           },
           "zerolinecolor": "white",
           "automargin": true,
           "zerolinewidth": 2
          },
          "yaxis": {
           "gridcolor": "white",
           "linecolor": "white",
           "ticks": "",
           "title": {
            "standoff": 15
           },
           "zerolinecolor": "white",
           "automargin": true,
           "zerolinewidth": 2
          },
          "scene": {
           "xaxis": {
            "backgroundcolor": "#E5ECF6",
            "gridcolor": "white",
            "linecolor": "white",
            "showbackground": true,
            "ticks": "",
            "zerolinecolor": "white",
            "gridwidth": 2
           },
           "yaxis": {
            "backgroundcolor": "#E5ECF6",
            "gridcolor": "white",
            "linecolor": "white",
            "showbackground": true,
            "ticks": "",
            "zerolinecolor": "white",
            "gridwidth": 2
           },
           "zaxis": {
            "backgroundcolor": "#E5ECF6",
            "gridcolor": "white",
            "linecolor": "white",
            "showbackground": true,
            "ticks": "",
            "zerolinecolor": "white",
            "gridwidth": 2
           }
          },
          "shapedefaults": {
           "line": {
            "color": "#2a3f5f"
           }
          },
          "annotationdefaults": {
           "arrowcolor": "#2a3f5f",
           "arrowhead": 0,
           "arrowwidth": 1
          },
          "geo": {
           "bgcolor": "white",
           "landcolor": "#E5ECF6",
           "subunitcolor": "white",
           "showland": true,
           "showlakes": true,
           "lakecolor": "white"
          },
          "title": {
           "x": 0.05
          },
          "mapbox": {
           "style": "light"
          }
         }
        },
        "legend": {
         "tracegroupgap": 0
        },
        "title": {
         "text": "Loan Grade Amounts"
        },
        "piecolorway": [
         "rgb(103,0,31)",
         "rgb(178,24,43)",
         "rgb(214,96,77)",
         "rgb(244,165,130)",
         "rgb(253,219,199)",
         "rgb(247,247,247)",
         "rgb(209,229,240)",
         "rgb(146,197,222)",
         "rgb(67,147,195)",
         "rgb(33,102,172)",
         "rgb(5,48,97)"
        ]
       },
       "config": {
        "plotlyServerURL": "https://plot.ly"
       }
      },
      "text/html": [
       "<div>                            <div id=\"e99b24d3-10d8-4920-baf2-b83cbe0bb298\" class=\"plotly-graph-div\" style=\"height:525px; width:100%;\"></div>            <script type=\"text/javascript\">                require([\"plotly\"], function(Plotly) {                    window.PLOTLYENV=window.PLOTLYENV || {};                                    if (document.getElementById(\"e99b24d3-10d8-4920-baf2-b83cbe0bb298\")) {                    Plotly.newPlot(                        \"e99b24d3-10d8-4920-baf2-b83cbe0bb298\",                        [{\"domain\":{\"x\":[0.0,1.0],\"y\":[0.0,1.0]},\"hovertemplate\":\"loan_grade=%{label}\\u003cbr\\u003ecount=%{value}\\u003cextra\\u003e\\u003c\\u002fextra\\u003e\",\"labels\":[\"A\",\"B\",\"C\",\"D\",\"E\",\"F\",\"G\"],\"legendgroup\":\"\",\"name\":\"\",\"showlegend\":true,\"values\":[9402,9151,5699,3248,870,209,59],\"type\":\"pie\",\"textfont\":{\"size\":13},\"textinfo\":\"label+percent+value\"}],                        {\"template\":{\"data\":{\"histogram2dcontour\":[{\"type\":\"histogram2dcontour\",\"colorbar\":{\"outlinewidth\":0,\"ticks\":\"\"},\"colorscale\":[[0.0,\"#0d0887\"],[0.1111111111111111,\"#46039f\"],[0.2222222222222222,\"#7201a8\"],[0.3333333333333333,\"#9c179e\"],[0.4444444444444444,\"#bd3786\"],[0.5555555555555556,\"#d8576b\"],[0.6666666666666666,\"#ed7953\"],[0.7777777777777778,\"#fb9f3a\"],[0.8888888888888888,\"#fdca26\"],[1.0,\"#f0f921\"]]}],\"choropleth\":[{\"type\":\"choropleth\",\"colorbar\":{\"outlinewidth\":0,\"ticks\":\"\"}}],\"histogram2d\":[{\"type\":\"histogram2d\",\"colorbar\":{\"outlinewidth\":0,\"ticks\":\"\"},\"colorscale\":[[0.0,\"#0d0887\"],[0.1111111111111111,\"#46039f\"],[0.2222222222222222,\"#7201a8\"],[0.3333333333333333,\"#9c179e\"],[0.4444444444444444,\"#bd3786\"],[0.5555555555555556,\"#d8576b\"],[0.6666666666666666,\"#ed7953\"],[0.7777777777777778,\"#fb9f3a\"],[0.8888888888888888,\"#fdca26\"],[1.0,\"#f0f921\"]]}],\"heatmap\":[{\"type\":\"heatmap\",\"colorbar\":{\"outlinewidth\":0,\"ticks\":\"\"},\"colorscale\":[[0.0,\"#0d0887\"],[0.1111111111111111,\"#46039f\"],[0.2222222222222222,\"#7201a8\"],[0.3333333333333333,\"#9c179e\"],[0.4444444444444444,\"#bd3786\"],[0.5555555555555556,\"#d8576b\"],[0.6666666666666666,\"#ed7953\"],[0.7777777777777778,\"#fb9f3a\"],[0.8888888888888888,\"#fdca26\"],[1.0,\"#f0f921\"]]}],\"heatmapgl\":[{\"type\":\"heatmapgl\",\"colorbar\":{\"outlinewidth\":0,\"ticks\":\"\"},\"colorscale\":[[0.0,\"#0d0887\"],[0.1111111111111111,\"#46039f\"],[0.2222222222222222,\"#7201a8\"],[0.3333333333333333,\"#9c179e\"],[0.4444444444444444,\"#bd3786\"],[0.5555555555555556,\"#d8576b\"],[0.6666666666666666,\"#ed7953\"],[0.7777777777777778,\"#fb9f3a\"],[0.8888888888888888,\"#fdca26\"],[1.0,\"#f0f921\"]]}],\"contourcarpet\":[{\"type\":\"contourcarpet\",\"colorbar\":{\"outlinewidth\":0,\"ticks\":\"\"}}],\"contour\":[{\"type\":\"contour\",\"colorbar\":{\"outlinewidth\":0,\"ticks\":\"\"},\"colorscale\":[[0.0,\"#0d0887\"],[0.1111111111111111,\"#46039f\"],[0.2222222222222222,\"#7201a8\"],[0.3333333333333333,\"#9c179e\"],[0.4444444444444444,\"#bd3786\"],[0.5555555555555556,\"#d8576b\"],[0.6666666666666666,\"#ed7953\"],[0.7777777777777778,\"#fb9f3a\"],[0.8888888888888888,\"#fdca26\"],[1.0,\"#f0f921\"]]}],\"surface\":[{\"type\":\"surface\",\"colorbar\":{\"outlinewidth\":0,\"ticks\":\"\"},\"colorscale\":[[0.0,\"#0d0887\"],[0.1111111111111111,\"#46039f\"],[0.2222222222222222,\"#7201a8\"],[0.3333333333333333,\"#9c179e\"],[0.4444444444444444,\"#bd3786\"],[0.5555555555555556,\"#d8576b\"],[0.6666666666666666,\"#ed7953\"],[0.7777777777777778,\"#fb9f3a\"],[0.8888888888888888,\"#fdca26\"],[1.0,\"#f0f921\"]]}],\"mesh3d\":[{\"type\":\"mesh3d\",\"colorbar\":{\"outlinewidth\":0,\"ticks\":\"\"}}],\"scatter\":[{\"fillpattern\":{\"fillmode\":\"overlay\",\"size\":10,\"solidity\":0.2},\"type\":\"scatter\"}],\"parcoords\":[{\"type\":\"parcoords\",\"line\":{\"colorbar\":{\"outlinewidth\":0,\"ticks\":\"\"}}}],\"scatterpolargl\":[{\"type\":\"scatterpolargl\",\"marker\":{\"colorbar\":{\"outlinewidth\":0,\"ticks\":\"\"}}}],\"bar\":[{\"error_x\":{\"color\":\"#2a3f5f\"},\"error_y\":{\"color\":\"#2a3f5f\"},\"marker\":{\"line\":{\"color\":\"#E5ECF6\",\"width\":0.5},\"pattern\":{\"fillmode\":\"overlay\",\"size\":10,\"solidity\":0.2}},\"type\":\"bar\"}],\"scattergeo\":[{\"type\":\"scattergeo\",\"marker\":{\"colorbar\":{\"outlinewidth\":0,\"ticks\":\"\"}}}],\"scatterpolar\":[{\"type\":\"scatterpolar\",\"marker\":{\"colorbar\":{\"outlinewidth\":0,\"ticks\":\"\"}}}],\"histogram\":[{\"marker\":{\"pattern\":{\"fillmode\":\"overlay\",\"size\":10,\"solidity\":0.2}},\"type\":\"histogram\"}],\"scattergl\":[{\"type\":\"scattergl\",\"marker\":{\"colorbar\":{\"outlinewidth\":0,\"ticks\":\"\"}}}],\"scatter3d\":[{\"type\":\"scatter3d\",\"line\":{\"colorbar\":{\"outlinewidth\":0,\"ticks\":\"\"}},\"marker\":{\"colorbar\":{\"outlinewidth\":0,\"ticks\":\"\"}}}],\"scattermapbox\":[{\"type\":\"scattermapbox\",\"marker\":{\"colorbar\":{\"outlinewidth\":0,\"ticks\":\"\"}}}],\"scatterternary\":[{\"type\":\"scatterternary\",\"marker\":{\"colorbar\":{\"outlinewidth\":0,\"ticks\":\"\"}}}],\"scattercarpet\":[{\"type\":\"scattercarpet\",\"marker\":{\"colorbar\":{\"outlinewidth\":0,\"ticks\":\"\"}}}],\"carpet\":[{\"aaxis\":{\"endlinecolor\":\"#2a3f5f\",\"gridcolor\":\"white\",\"linecolor\":\"white\",\"minorgridcolor\":\"white\",\"startlinecolor\":\"#2a3f5f\"},\"baxis\":{\"endlinecolor\":\"#2a3f5f\",\"gridcolor\":\"white\",\"linecolor\":\"white\",\"minorgridcolor\":\"white\",\"startlinecolor\":\"#2a3f5f\"},\"type\":\"carpet\"}],\"table\":[{\"cells\":{\"fill\":{\"color\":\"#EBF0F8\"},\"line\":{\"color\":\"white\"}},\"header\":{\"fill\":{\"color\":\"#C8D4E3\"},\"line\":{\"color\":\"white\"}},\"type\":\"table\"}],\"barpolar\":[{\"marker\":{\"line\":{\"color\":\"#E5ECF6\",\"width\":0.5},\"pattern\":{\"fillmode\":\"overlay\",\"size\":10,\"solidity\":0.2}},\"type\":\"barpolar\"}],\"pie\":[{\"automargin\":true,\"type\":\"pie\"}]},\"layout\":{\"autotypenumbers\":\"strict\",\"colorway\":[\"#636efa\",\"#EF553B\",\"#00cc96\",\"#ab63fa\",\"#FFA15A\",\"#19d3f3\",\"#FF6692\",\"#B6E880\",\"#FF97FF\",\"#FECB52\"],\"font\":{\"color\":\"#2a3f5f\"},\"hovermode\":\"closest\",\"hoverlabel\":{\"align\":\"left\"},\"paper_bgcolor\":\"white\",\"plot_bgcolor\":\"#E5ECF6\",\"polar\":{\"bgcolor\":\"#E5ECF6\",\"angularaxis\":{\"gridcolor\":\"white\",\"linecolor\":\"white\",\"ticks\":\"\"},\"radialaxis\":{\"gridcolor\":\"white\",\"linecolor\":\"white\",\"ticks\":\"\"}},\"ternary\":{\"bgcolor\":\"#E5ECF6\",\"aaxis\":{\"gridcolor\":\"white\",\"linecolor\":\"white\",\"ticks\":\"\"},\"baxis\":{\"gridcolor\":\"white\",\"linecolor\":\"white\",\"ticks\":\"\"},\"caxis\":{\"gridcolor\":\"white\",\"linecolor\":\"white\",\"ticks\":\"\"}},\"coloraxis\":{\"colorbar\":{\"outlinewidth\":0,\"ticks\":\"\"}},\"colorscale\":{\"sequential\":[[0.0,\"#0d0887\"],[0.1111111111111111,\"#46039f\"],[0.2222222222222222,\"#7201a8\"],[0.3333333333333333,\"#9c179e\"],[0.4444444444444444,\"#bd3786\"],[0.5555555555555556,\"#d8576b\"],[0.6666666666666666,\"#ed7953\"],[0.7777777777777778,\"#fb9f3a\"],[0.8888888888888888,\"#fdca26\"],[1.0,\"#f0f921\"]],\"sequentialminus\":[[0.0,\"#0d0887\"],[0.1111111111111111,\"#46039f\"],[0.2222222222222222,\"#7201a8\"],[0.3333333333333333,\"#9c179e\"],[0.4444444444444444,\"#bd3786\"],[0.5555555555555556,\"#d8576b\"],[0.6666666666666666,\"#ed7953\"],[0.7777777777777778,\"#fb9f3a\"],[0.8888888888888888,\"#fdca26\"],[1.0,\"#f0f921\"]],\"diverging\":[[0,\"#8e0152\"],[0.1,\"#c51b7d\"],[0.2,\"#de77ae\"],[0.3,\"#f1b6da\"],[0.4,\"#fde0ef\"],[0.5,\"#f7f7f7\"],[0.6,\"#e6f5d0\"],[0.7,\"#b8e186\"],[0.8,\"#7fbc41\"],[0.9,\"#4d9221\"],[1,\"#276419\"]]},\"xaxis\":{\"gridcolor\":\"white\",\"linecolor\":\"white\",\"ticks\":\"\",\"title\":{\"standoff\":15},\"zerolinecolor\":\"white\",\"automargin\":true,\"zerolinewidth\":2},\"yaxis\":{\"gridcolor\":\"white\",\"linecolor\":\"white\",\"ticks\":\"\",\"title\":{\"standoff\":15},\"zerolinecolor\":\"white\",\"automargin\":true,\"zerolinewidth\":2},\"scene\":{\"xaxis\":{\"backgroundcolor\":\"#E5ECF6\",\"gridcolor\":\"white\",\"linecolor\":\"white\",\"showbackground\":true,\"ticks\":\"\",\"zerolinecolor\":\"white\",\"gridwidth\":2},\"yaxis\":{\"backgroundcolor\":\"#E5ECF6\",\"gridcolor\":\"white\",\"linecolor\":\"white\",\"showbackground\":true,\"ticks\":\"\",\"zerolinecolor\":\"white\",\"gridwidth\":2},\"zaxis\":{\"backgroundcolor\":\"#E5ECF6\",\"gridcolor\":\"white\",\"linecolor\":\"white\",\"showbackground\":true,\"ticks\":\"\",\"zerolinecolor\":\"white\",\"gridwidth\":2}},\"shapedefaults\":{\"line\":{\"color\":\"#2a3f5f\"}},\"annotationdefaults\":{\"arrowcolor\":\"#2a3f5f\",\"arrowhead\":0,\"arrowwidth\":1},\"geo\":{\"bgcolor\":\"white\",\"landcolor\":\"#E5ECF6\",\"subunitcolor\":\"white\",\"showland\":true,\"showlakes\":true,\"lakecolor\":\"white\"},\"title\":{\"x\":0.05},\"mapbox\":{\"style\":\"light\"}}},\"legend\":{\"tracegroupgap\":0},\"title\":{\"text\":\"Loan Grade Amounts\"},\"piecolorway\":[\"rgb(103,0,31)\",\"rgb(178,24,43)\",\"rgb(214,96,77)\",\"rgb(244,165,130)\",\"rgb(253,219,199)\",\"rgb(247,247,247)\",\"rgb(209,229,240)\",\"rgb(146,197,222)\",\"rgb(67,147,195)\",\"rgb(33,102,172)\",\"rgb(5,48,97)\"]},                        {\"responsive\": true}                    ).then(function(){\n",
       "                            \n",
       "var gd = document.getElementById('e99b24d3-10d8-4920-baf2-b83cbe0bb298');\n",
       "var x = new MutationObserver(function (mutations, observer) {{\n",
       "        var display = window.getComputedStyle(gd).display;\n",
       "        if (!display || display === 'none') {{\n",
       "            console.log([gd, 'removed!']);\n",
       "            Plotly.purge(gd);\n",
       "            observer.disconnect();\n",
       "        }}\n",
       "}});\n",
       "\n",
       "// Listen for the removal of the full notebook cells\n",
       "var notebookContainer = gd.closest('#notebook-container');\n",
       "if (notebookContainer) {{\n",
       "    x.observe(notebookContainer, {childList: true});\n",
       "}}\n",
       "\n",
       "// Listen for the clearing of the current output cell\n",
       "var outputEl = gd.closest('.output');\n",
       "if (outputEl) {{\n",
       "    x.observe(outputEl, {childList: true});\n",
       "}}\n",
       "\n",
       "                        })                };                });            </script>        </div>"
      ]
     },
     "metadata": {},
     "output_type": "display_data"
    }
   ],
   "execution_count": 28
  },
  {
   "metadata": {
    "ExecuteTime": {
     "end_time": "2024-11-14T23:08:50.488529Z",
     "start_time": "2024-11-14T23:08:08.189852Z"
    }
   },
   "cell_type": "code",
   "source": "|",
   "id": "3e65200536a10fcb",
   "outputs": [],
   "execution_count": null
  },
  {
   "metadata": {
    "ExecuteTime": {
     "end_time": "2024-11-14T23:08:50.488626Z",
     "start_time": "2024-11-14T23:08:08.229196Z"
    }
   },
   "cell_type": "code",
   "source": [
    "# create dummy variables for non-numerical values and then cast them as integers\n",
    "dummy = pd.get_dummies(cdr_data_clean,dtype=int)\n",
    "dummy.corr()"
   ],
   "id": "541335baf87e82c6",
   "outputs": [
    {
     "data": {
      "text/plain": [
       "                                person_age  person_income  person_emp_length  \\\n",
       "person_age                        1.000000       0.178899           0.165787   \n",
       "person_income                     0.178899       1.000000           0.136825   \n",
       "person_emp_length                 0.165787       0.136825           1.000000   \n",
       "loan_amnt                         0.054172       0.265879           0.110759   \n",
       "loan_int_rate                     0.011019      -0.001381          -0.056405   \n",
       "loan_status                      -0.023333      -0.139938          -0.082638   \n",
       "loan_percent_income              -0.041065      -0.251511          -0.055167   \n",
       "cb_person_cred_hist_length        0.859544       0.117076           0.146336   \n",
       "person_home_ownership_MORTGAGE    0.034111       0.200770           0.222190   \n",
       "person_home_ownership_OTHER      -0.007484       0.011440          -0.013098   \n",
       "person_home_ownership_OWN         0.002184      -0.032780           0.026847   \n",
       "person_home_ownership_RENT       -0.033889      -0.181544          -0.231535   \n",
       "loan_intent_DEBTCONSOLIDATION    -0.007872       0.002564          -0.000650   \n",
       "loan_intent_EDUCATION            -0.091197      -0.017324          -0.039093   \n",
       "loan_intent_HOMEIMPROVEMENT       0.076256       0.044661           0.027802   \n",
       "loan_intent_MEDICAL               0.015694      -0.037293          -0.004795   \n",
       "loan_intent_PERSONAL              0.034291       0.014202           0.012491   \n",
       "loan_intent_VENTURE              -0.009734       0.002768           0.011221   \n",
       "loan_grade_A                     -0.005919       0.004253           0.056538   \n",
       "loan_grade_B                     -0.007165       0.001617          -0.008240   \n",
       "loan_grade_C                      0.003515      -0.006407          -0.043296   \n",
       "loan_grade_D                      0.011570      -0.013805          -0.006987   \n",
       "loan_grade_E                      0.000494       0.012844          -0.016853   \n",
       "loan_grade_F                      0.009037       0.018467          -0.009858   \n",
       "loan_grade_G                      0.004283       0.008996           0.011579   \n",
       "cb_person_default_on_file_N      -0.007765       0.002709           0.027863   \n",
       "cb_person_default_on_file_Y       0.007765      -0.002709          -0.027863   \n",
       "\n",
       "                                loan_amnt  loan_int_rate  loan_status  \\\n",
       "person_age                       0.054172       0.011019    -0.023333   \n",
       "person_income                    0.265879      -0.001381    -0.139938   \n",
       "person_emp_length                0.110759      -0.056405    -0.082638   \n",
       "loan_amnt                        1.000000       0.145904     0.113550   \n",
       "loan_int_rate                    0.145904       1.000000     0.339350   \n",
       "loan_status                      0.113550       0.339350     1.000000   \n",
       "loan_percent_income              0.577399       0.123500     0.379689   \n",
       "cb_person_cred_hist_length       0.045294       0.015371    -0.015649   \n",
       "person_home_ownership_MORTGAGE   0.129524      -0.133444    -0.184466   \n",
       "person_home_ownership_OTHER      0.013350       0.017606     0.009840   \n",
       "person_home_ownership_OWN       -0.023913      -0.006777    -0.104832   \n",
       "person_home_ownership_RENT      -0.116333       0.132972     0.236239   \n",
       "loan_intent_DEBTCONSOLIDATION    0.000573      -0.002353     0.071145   \n",
       "loan_intent_EDUCATION           -0.010656      -0.008847    -0.056138   \n",
       "loan_intent_HOMEIMPROVEMENT      0.042043       0.020416     0.034534   \n",
       "loan_intent_MEDICAL             -0.023497       0.005831     0.059955   \n",
       "loan_intent_PERSONAL             0.000655      -0.002660    -0.021054   \n",
       "loan_intent_VENTURE             -0.000847      -0.008691    -0.078644   \n",
       "loan_grade_A                    -0.119054      -0.799456    -0.204428   \n",
       "loan_grade_B                     0.043321      -0.007936    -0.096187   \n",
       "loan_grade_C                    -0.028026       0.372469    -0.016435   \n",
       "loan_grade_D                     0.069097       0.477250     0.325998   \n",
       "loan_grade_E                     0.091518       0.326998     0.184503   \n",
       "loan_grade_F                     0.076557       0.200658     0.100320   \n",
       "loan_grade_G                     0.060912       0.129607     0.084541   \n",
       "cb_person_default_on_file_N     -0.040320      -0.500254    -0.182019   \n",
       "cb_person_default_on_file_Y      0.040320       0.500254     0.182019   \n",
       "\n",
       "                                loan_percent_income  \\\n",
       "person_age                                -0.041065   \n",
       "person_income                             -0.251511   \n",
       "person_emp_length                         -0.055167   \n",
       "loan_amnt                                  0.577399   \n",
       "loan_int_rate                              0.123500   \n",
       "loan_status                                0.379689   \n",
       "loan_percent_income                        1.000000   \n",
       "cb_person_cred_hist_length                -0.030080   \n",
       "person_home_ownership_MORTGAGE            -0.145138   \n",
       "person_home_ownership_OTHER                0.010892   \n",
       "person_home_ownership_OWN                  0.041458   \n",
       "person_home_ownership_RENT                 0.119602   \n",
       "loan_intent_DEBTCONSOLIDATION              0.004749   \n",
       "loan_intent_EDUCATION                     -0.000986   \n",
       "loan_intent_HOMEIMPROVEMENT               -0.019208   \n",
       "loan_intent_MEDICAL                        0.015161   \n",
       "loan_intent_PERSONAL                      -0.003967   \n",
       "loan_intent_VENTURE                        0.000821   \n",
       "loan_grade_A                              -0.110316   \n",
       "loan_grade_B                               0.032170   \n",
       "loan_grade_C                              -0.000051   \n",
       "loan_grade_D                               0.068357   \n",
       "loan_grade_E                               0.058891   \n",
       "loan_grade_F                               0.039898   \n",
       "loan_grade_G                               0.036266   \n",
       "cb_person_default_on_file_N               -0.036170   \n",
       "cb_person_default_on_file_Y                0.036170   \n",
       "\n",
       "                                cb_person_cred_hist_length  \\\n",
       "person_age                                        0.859544   \n",
       "person_income                                     0.117076   \n",
       "person_emp_length                                 0.146336   \n",
       "loan_amnt                                         0.045294   \n",
       "loan_int_rate                                     0.015371   \n",
       "loan_status                                      -0.015649   \n",
       "loan_percent_income                              -0.030080   \n",
       "cb_person_cred_hist_length                        1.000000   \n",
       "person_home_ownership_MORTGAGE                    0.022839   \n",
       "person_home_ownership_OTHER                      -0.006139   \n",
       "person_home_ownership_OWN                         0.008883   \n",
       "person_home_ownership_RENT                       -0.026508   \n",
       "loan_intent_DEBTCONSOLIDATION                    -0.009482   \n",
       "loan_intent_EDUCATION                            -0.078102   \n",
       "loan_intent_HOMEIMPROVEMENT                       0.059865   \n",
       "loan_intent_MEDICAL                               0.012915   \n",
       "loan_intent_PERSONAL                              0.035446   \n",
       "loan_intent_VENTURE                              -0.006661   \n",
       "loan_grade_A                                     -0.010048   \n",
       "loan_grade_B                                     -0.004385   \n",
       "loan_grade_C                                      0.007678   \n",
       "loan_grade_D                                      0.009815   \n",
       "loan_grade_E                                     -0.002396   \n",
       "loan_grade_F                                      0.008240   \n",
       "loan_grade_G                                      0.006516   \n",
       "cb_person_default_on_file_N                      -0.008396   \n",
       "cb_person_default_on_file_Y                       0.008396   \n",
       "\n",
       "                                person_home_ownership_MORTGAGE  \\\n",
       "person_age                                            0.034111   \n",
       "person_income                                         0.200770   \n",
       "person_emp_length                                     0.222190   \n",
       "loan_amnt                                             0.129524   \n",
       "loan_int_rate                                        -0.133444   \n",
       "loan_status                                          -0.184466   \n",
       "loan_percent_income                                  -0.145138   \n",
       "cb_person_cred_hist_length                            0.022839   \n",
       "person_home_ownership_MORTGAGE                        1.000000   \n",
       "person_home_ownership_OTHER                          -0.048043   \n",
       "person_home_ownership_OWN                            -0.241028   \n",
       "person_home_ownership_RENT                           -0.850872   \n",
       "loan_intent_DEBTCONSOLIDATION                         0.026140   \n",
       "loan_intent_EDUCATION                                -0.005591   \n",
       "loan_intent_HOMEIMPROVEMENT                           0.051848   \n",
       "loan_intent_MEDICAL                                  -0.052475   \n",
       "loan_intent_PERSONAL                                  0.011005   \n",
       "loan_intent_VENTURE                                  -0.019581   \n",
       "loan_grade_A                                          0.133196   \n",
       "loan_grade_B                                         -0.035889   \n",
       "loan_grade_C                                         -0.062088   \n",
       "loan_grade_D                                         -0.056696   \n",
       "loan_grade_E                                         -0.021290   \n",
       "loan_grade_F                                          0.004064   \n",
       "loan_grade_G                                          0.005770   \n",
       "cb_person_default_on_file_N                           0.061515   \n",
       "cb_person_default_on_file_Y                          -0.061515   \n",
       "\n",
       "                                person_home_ownership_OTHER  ...  \\\n",
       "person_age                                        -0.007484  ...   \n",
       "person_income                                      0.011440  ...   \n",
       "person_emp_length                                 -0.013098  ...   \n",
       "loan_amnt                                          0.013350  ...   \n",
       "loan_int_rate                                      0.017606  ...   \n",
       "loan_status                                        0.009840  ...   \n",
       "loan_percent_income                                0.010892  ...   \n",
       "cb_person_cred_hist_length                        -0.006139  ...   \n",
       "person_home_ownership_MORTGAGE                    -0.048043  ...   \n",
       "person_home_ownership_OTHER                        1.000000  ...   \n",
       "person_home_ownership_OWN                         -0.016521  ...   \n",
       "person_home_ownership_RENT                        -0.058324  ...   \n",
       "loan_intent_DEBTCONSOLIDATION                     -0.001641  ...   \n",
       "loan_intent_EDUCATION                             -0.007219  ...   \n",
       "loan_intent_HOMEIMPROVEMENT                        0.000975  ...   \n",
       "loan_intent_MEDICAL                               -0.005306  ...   \n",
       "loan_intent_PERSONAL                              -0.000013  ...   \n",
       "loan_intent_VENTURE                                0.013805  ...   \n",
       "loan_grade_A                                      -0.008919  ...   \n",
       "loan_grade_B                                      -0.000048  ...   \n",
       "loan_grade_C                                      -0.004138  ...   \n",
       "loan_grade_D                                       0.010279  ...   \n",
       "loan_grade_E                                       0.011185  ...   \n",
       "loan_grade_F                                       0.009425  ...   \n",
       "loan_grade_G                                      -0.002607  ...   \n",
       "cb_person_default_on_file_N                       -0.009971  ...   \n",
       "cb_person_default_on_file_Y                        0.009971  ...   \n",
       "\n",
       "                                loan_intent_VENTURE  loan_grade_A  \\\n",
       "person_age                                -0.009734     -0.005919   \n",
       "person_income                              0.002768      0.004253   \n",
       "person_emp_length                          0.011221      0.056538   \n",
       "loan_amnt                                 -0.000847     -0.119054   \n",
       "loan_int_rate                             -0.008691     -0.799456   \n",
       "loan_status                               -0.078644     -0.204428   \n",
       "loan_percent_income                        0.000821     -0.110316   \n",
       "cb_person_cred_hist_length                -0.006661     -0.010048   \n",
       "person_home_ownership_MORTGAGE            -0.019581      0.133196   \n",
       "person_home_ownership_OTHER                0.013805     -0.008919   \n",
       "person_home_ownership_OWN                  0.094866      0.010448   \n",
       "person_home_ownership_RENT                -0.032750     -0.135673   \n",
       "loan_intent_DEBTCONSOLIDATION             -0.200303      0.007168   \n",
       "loan_intent_EDUCATION                     -0.229394      0.007885   \n",
       "loan_intent_HOMEIMPROVEMENT               -0.163085     -0.012730   \n",
       "loan_intent_MEDICAL                       -0.219021     -0.008567   \n",
       "loan_intent_PERSONAL                      -0.208390     -0.001018   \n",
       "loan_intent_VENTURE                        1.000000      0.005121   \n",
       "loan_grade_A                               0.005121      1.000000   \n",
       "loan_grade_B                               0.007491     -0.479087   \n",
       "loan_grade_C                              -0.006037     -0.348470   \n",
       "loan_grade_D                              -0.012818     -0.250051   \n",
       "loan_grade_E                               0.004327     -0.123749   \n",
       "loan_grade_F                              -0.003779     -0.059944   \n",
       "loan_grade_G                               0.003442     -0.031765   \n",
       "cb_person_default_on_file_N                0.003396      0.325543   \n",
       "cb_person_default_on_file_Y               -0.003396     -0.325543   \n",
       "\n",
       "                                loan_grade_B  loan_grade_C  loan_grade_D  \\\n",
       "person_age                         -0.007165      0.003515      0.011570   \n",
       "person_income                       0.001617     -0.006407     -0.013805   \n",
       "person_emp_length                  -0.008240     -0.043296     -0.006987   \n",
       "loan_amnt                           0.043321     -0.028026      0.069097   \n",
       "loan_int_rate                      -0.007936      0.372469      0.477250   \n",
       "loan_status                        -0.096187     -0.016435      0.325998   \n",
       "loan_percent_income                 0.032170     -0.000051      0.068357   \n",
       "cb_person_cred_hist_length         -0.004385      0.007678      0.009815   \n",
       "person_home_ownership_MORTGAGE     -0.035889     -0.062088     -0.056696   \n",
       "person_home_ownership_OTHER        -0.000048     -0.004138      0.010279   \n",
       "person_home_ownership_OWN          -0.000967     -0.004346      0.000577   \n",
       "person_home_ownership_RENT          0.035855      0.063913      0.054337   \n",
       "loan_intent_DEBTCONSOLIDATION      -0.009349      0.001328      0.004891   \n",
       "loan_intent_EDUCATION              -0.007811      0.014212     -0.015695   \n",
       "loan_intent_HOMEIMPROVEMENT        -0.008533     -0.005667      0.025976   \n",
       "loan_intent_MEDICAL                 0.007654      0.004436     -0.004060   \n",
       "loan_intent_PERSONAL                0.009085     -0.010128      0.007286   \n",
       "loan_intent_VENTURE                 0.007491     -0.006037     -0.012818   \n",
       "loan_grade_A                       -0.479087     -0.348470     -0.250051   \n",
       "loan_grade_B                        1.000000     -0.341565     -0.245097   \n",
       "loan_grade_C                       -0.341565      1.000000     -0.178274   \n",
       "loan_grade_D                       -0.245097     -0.178274      1.000000   \n",
       "loan_grade_E                       -0.121297     -0.088227     -0.063309   \n",
       "loan_grade_F                       -0.058756     -0.042737     -0.030667   \n",
       "loan_grade_G                       -0.031136     -0.022647     -0.016251   \n",
       "cb_person_default_on_file_N         0.319093     -0.424764     -0.318334   \n",
       "cb_person_default_on_file_Y        -0.319093      0.424764      0.318334   \n",
       "\n",
       "                                loan_grade_E  loan_grade_F  loan_grade_G  \\\n",
       "person_age                          0.000494      0.009037      0.004283   \n",
       "person_income                       0.012844      0.018467      0.008996   \n",
       "person_emp_length                  -0.016853     -0.009858      0.011579   \n",
       "loan_amnt                           0.091518      0.076557      0.060912   \n",
       "loan_int_rate                       0.326998      0.200658      0.129607   \n",
       "loan_status                         0.184503      0.100320      0.084541   \n",
       "loan_percent_income                 0.058891      0.039898      0.036266   \n",
       "cb_person_cred_hist_length         -0.002396      0.008240      0.006516   \n",
       "person_home_ownership_MORTGAGE     -0.021290      0.004064      0.005770   \n",
       "person_home_ownership_OTHER         0.011185      0.009425     -0.002607   \n",
       "person_home_ownership_OWN          -0.014992     -0.004625      0.001402   \n",
       "person_home_ownership_RENT          0.027654     -0.002620     -0.006128   \n",
       "loan_intent_DEBTCONSOLIDATION      -0.007604      0.004130     -0.002955   \n",
       "loan_intent_EDUCATION              -0.001672     -0.002699     -0.005305   \n",
       "loan_intent_HOMEIMPROVEMENT         0.019280      0.004769      0.005896   \n",
       "loan_intent_MEDICAL                -0.004087      0.007791      0.000189   \n",
       "loan_intent_PERSONAL               -0.007123     -0.009378     -0.000098   \n",
       "loan_intent_VENTURE                 0.004327     -0.003779      0.003442   \n",
       "loan_grade_A                       -0.123749     -0.059944     -0.031765   \n",
       "loan_grade_B                       -0.121297     -0.058756     -0.031136   \n",
       "loan_grade_C                       -0.088227     -0.042737     -0.022647   \n",
       "loan_grade_D                       -0.063309     -0.030667     -0.016251   \n",
       "loan_grade_E                        1.000000     -0.015177     -0.008042   \n",
       "loan_grade_F                       -0.015177      1.000000     -0.003896   \n",
       "loan_grade_G                       -0.008042     -0.003896      1.000000   \n",
       "cb_person_default_on_file_N        -0.138220     -0.061920     -0.047266   \n",
       "cb_person_default_on_file_Y         0.138220      0.061920      0.047266   \n",
       "\n",
       "                                cb_person_default_on_file_N  \\\n",
       "person_age                                        -0.007765   \n",
       "person_income                                      0.002709   \n",
       "person_emp_length                                  0.027863   \n",
       "loan_amnt                                         -0.040320   \n",
       "loan_int_rate                                     -0.500254   \n",
       "loan_status                                       -0.182019   \n",
       "loan_percent_income                               -0.036170   \n",
       "cb_person_cred_hist_length                        -0.008396   \n",
       "person_home_ownership_MORTGAGE                     0.061515   \n",
       "person_home_ownership_OTHER                       -0.009971   \n",
       "person_home_ownership_OWN                         -0.000140   \n",
       "person_home_ownership_RENT                        -0.059349   \n",
       "loan_intent_DEBTCONSOLIDATION                      0.000109   \n",
       "loan_intent_EDUCATION                              0.005345   \n",
       "loan_intent_HOMEIMPROVEMENT                       -0.015688   \n",
       "loan_intent_MEDICAL                                0.000978   \n",
       "loan_intent_PERSONAL                               0.002921   \n",
       "loan_intent_VENTURE                                0.003396   \n",
       "loan_grade_A                                       0.325543   \n",
       "loan_grade_B                                       0.319093   \n",
       "loan_grade_C                                      -0.424764   \n",
       "loan_grade_D                                      -0.318334   \n",
       "loan_grade_E                                      -0.138220   \n",
       "loan_grade_F                                      -0.061920   \n",
       "loan_grade_G                                      -0.047266   \n",
       "cb_person_default_on_file_N                        1.000000   \n",
       "cb_person_default_on_file_Y                       -1.000000   \n",
       "\n",
       "                                cb_person_default_on_file_Y  \n",
       "person_age                                         0.007765  \n",
       "person_income                                     -0.002709  \n",
       "person_emp_length                                 -0.027863  \n",
       "loan_amnt                                          0.040320  \n",
       "loan_int_rate                                      0.500254  \n",
       "loan_status                                        0.182019  \n",
       "loan_percent_income                                0.036170  \n",
       "cb_person_cred_hist_length                         0.008396  \n",
       "person_home_ownership_MORTGAGE                    -0.061515  \n",
       "person_home_ownership_OTHER                        0.009971  \n",
       "person_home_ownership_OWN                          0.000140  \n",
       "person_home_ownership_RENT                         0.059349  \n",
       "loan_intent_DEBTCONSOLIDATION                     -0.000109  \n",
       "loan_intent_EDUCATION                             -0.005345  \n",
       "loan_intent_HOMEIMPROVEMENT                        0.015688  \n",
       "loan_intent_MEDICAL                               -0.000978  \n",
       "loan_intent_PERSONAL                              -0.002921  \n",
       "loan_intent_VENTURE                               -0.003396  \n",
       "loan_grade_A                                      -0.325543  \n",
       "loan_grade_B                                      -0.319093  \n",
       "loan_grade_C                                       0.424764  \n",
       "loan_grade_D                                       0.318334  \n",
       "loan_grade_E                                       0.138220  \n",
       "loan_grade_F                                       0.061920  \n",
       "loan_grade_G                                       0.047266  \n",
       "cb_person_default_on_file_N                       -1.000000  \n",
       "cb_person_default_on_file_Y                        1.000000  \n",
       "\n",
       "[27 rows x 27 columns]"
      ],
      "text/html": [
       "<div>\n",
       "<style scoped>\n",
       "    .dataframe tbody tr th:only-of-type {\n",
       "        vertical-align: middle;\n",
       "    }\n",
       "\n",
       "    .dataframe tbody tr th {\n",
       "        vertical-align: top;\n",
       "    }\n",
       "\n",
       "    .dataframe thead th {\n",
       "        text-align: right;\n",
       "    }\n",
       "</style>\n",
       "<table border=\"1\" class=\"dataframe\">\n",
       "  <thead>\n",
       "    <tr style=\"text-align: right;\">\n",
       "      <th></th>\n",
       "      <th>person_age</th>\n",
       "      <th>person_income</th>\n",
       "      <th>person_emp_length</th>\n",
       "      <th>loan_amnt</th>\n",
       "      <th>loan_int_rate</th>\n",
       "      <th>loan_status</th>\n",
       "      <th>loan_percent_income</th>\n",
       "      <th>cb_person_cred_hist_length</th>\n",
       "      <th>person_home_ownership_MORTGAGE</th>\n",
       "      <th>person_home_ownership_OTHER</th>\n",
       "      <th>...</th>\n",
       "      <th>loan_intent_VENTURE</th>\n",
       "      <th>loan_grade_A</th>\n",
       "      <th>loan_grade_B</th>\n",
       "      <th>loan_grade_C</th>\n",
       "      <th>loan_grade_D</th>\n",
       "      <th>loan_grade_E</th>\n",
       "      <th>loan_grade_F</th>\n",
       "      <th>loan_grade_G</th>\n",
       "      <th>cb_person_default_on_file_N</th>\n",
       "      <th>cb_person_default_on_file_Y</th>\n",
       "    </tr>\n",
       "  </thead>\n",
       "  <tbody>\n",
       "    <tr>\n",
       "      <th>person_age</th>\n",
       "      <td>1.000000</td>\n",
       "      <td>0.178899</td>\n",
       "      <td>0.165787</td>\n",
       "      <td>0.054172</td>\n",
       "      <td>0.011019</td>\n",
       "      <td>-0.023333</td>\n",
       "      <td>-0.041065</td>\n",
       "      <td>0.859544</td>\n",
       "      <td>0.034111</td>\n",
       "      <td>-0.007484</td>\n",
       "      <td>...</td>\n",
       "      <td>-0.009734</td>\n",
       "      <td>-0.005919</td>\n",
       "      <td>-0.007165</td>\n",
       "      <td>0.003515</td>\n",
       "      <td>0.011570</td>\n",
       "      <td>0.000494</td>\n",
       "      <td>0.009037</td>\n",
       "      <td>0.004283</td>\n",
       "      <td>-0.007765</td>\n",
       "      <td>0.007765</td>\n",
       "    </tr>\n",
       "    <tr>\n",
       "      <th>person_income</th>\n",
       "      <td>0.178899</td>\n",
       "      <td>1.000000</td>\n",
       "      <td>0.136825</td>\n",
       "      <td>0.265879</td>\n",
       "      <td>-0.001381</td>\n",
       "      <td>-0.139938</td>\n",
       "      <td>-0.251511</td>\n",
       "      <td>0.117076</td>\n",
       "      <td>0.200770</td>\n",
       "      <td>0.011440</td>\n",
       "      <td>...</td>\n",
       "      <td>0.002768</td>\n",
       "      <td>0.004253</td>\n",
       "      <td>0.001617</td>\n",
       "      <td>-0.006407</td>\n",
       "      <td>-0.013805</td>\n",
       "      <td>0.012844</td>\n",
       "      <td>0.018467</td>\n",
       "      <td>0.008996</td>\n",
       "      <td>0.002709</td>\n",
       "      <td>-0.002709</td>\n",
       "    </tr>\n",
       "    <tr>\n",
       "      <th>person_emp_length</th>\n",
       "      <td>0.165787</td>\n",
       "      <td>0.136825</td>\n",
       "      <td>1.000000</td>\n",
       "      <td>0.110759</td>\n",
       "      <td>-0.056405</td>\n",
       "      <td>-0.082638</td>\n",
       "      <td>-0.055167</td>\n",
       "      <td>0.146336</td>\n",
       "      <td>0.222190</td>\n",
       "      <td>-0.013098</td>\n",
       "      <td>...</td>\n",
       "      <td>0.011221</td>\n",
       "      <td>0.056538</td>\n",
       "      <td>-0.008240</td>\n",
       "      <td>-0.043296</td>\n",
       "      <td>-0.006987</td>\n",
       "      <td>-0.016853</td>\n",
       "      <td>-0.009858</td>\n",
       "      <td>0.011579</td>\n",
       "      <td>0.027863</td>\n",
       "      <td>-0.027863</td>\n",
       "    </tr>\n",
       "    <tr>\n",
       "      <th>loan_amnt</th>\n",
       "      <td>0.054172</td>\n",
       "      <td>0.265879</td>\n",
       "      <td>0.110759</td>\n",
       "      <td>1.000000</td>\n",
       "      <td>0.145904</td>\n",
       "      <td>0.113550</td>\n",
       "      <td>0.577399</td>\n",
       "      <td>0.045294</td>\n",
       "      <td>0.129524</td>\n",
       "      <td>0.013350</td>\n",
       "      <td>...</td>\n",
       "      <td>-0.000847</td>\n",
       "      <td>-0.119054</td>\n",
       "      <td>0.043321</td>\n",
       "      <td>-0.028026</td>\n",
       "      <td>0.069097</td>\n",
       "      <td>0.091518</td>\n",
       "      <td>0.076557</td>\n",
       "      <td>0.060912</td>\n",
       "      <td>-0.040320</td>\n",
       "      <td>0.040320</td>\n",
       "    </tr>\n",
       "    <tr>\n",
       "      <th>loan_int_rate</th>\n",
       "      <td>0.011019</td>\n",
       "      <td>-0.001381</td>\n",
       "      <td>-0.056405</td>\n",
       "      <td>0.145904</td>\n",
       "      <td>1.000000</td>\n",
       "      <td>0.339350</td>\n",
       "      <td>0.123500</td>\n",
       "      <td>0.015371</td>\n",
       "      <td>-0.133444</td>\n",
       "      <td>0.017606</td>\n",
       "      <td>...</td>\n",
       "      <td>-0.008691</td>\n",
       "      <td>-0.799456</td>\n",
       "      <td>-0.007936</td>\n",
       "      <td>0.372469</td>\n",
       "      <td>0.477250</td>\n",
       "      <td>0.326998</td>\n",
       "      <td>0.200658</td>\n",
       "      <td>0.129607</td>\n",
       "      <td>-0.500254</td>\n",
       "      <td>0.500254</td>\n",
       "    </tr>\n",
       "    <tr>\n",
       "      <th>loan_status</th>\n",
       "      <td>-0.023333</td>\n",
       "      <td>-0.139938</td>\n",
       "      <td>-0.082638</td>\n",
       "      <td>0.113550</td>\n",
       "      <td>0.339350</td>\n",
       "      <td>1.000000</td>\n",
       "      <td>0.379689</td>\n",
       "      <td>-0.015649</td>\n",
       "      <td>-0.184466</td>\n",
       "      <td>0.009840</td>\n",
       "      <td>...</td>\n",
       "      <td>-0.078644</td>\n",
       "      <td>-0.204428</td>\n",
       "      <td>-0.096187</td>\n",
       "      <td>-0.016435</td>\n",
       "      <td>0.325998</td>\n",
       "      <td>0.184503</td>\n",
       "      <td>0.100320</td>\n",
       "      <td>0.084541</td>\n",
       "      <td>-0.182019</td>\n",
       "      <td>0.182019</td>\n",
       "    </tr>\n",
       "    <tr>\n",
       "      <th>loan_percent_income</th>\n",
       "      <td>-0.041065</td>\n",
       "      <td>-0.251511</td>\n",
       "      <td>-0.055167</td>\n",
       "      <td>0.577399</td>\n",
       "      <td>0.123500</td>\n",
       "      <td>0.379689</td>\n",
       "      <td>1.000000</td>\n",
       "      <td>-0.030080</td>\n",
       "      <td>-0.145138</td>\n",
       "      <td>0.010892</td>\n",
       "      <td>...</td>\n",
       "      <td>0.000821</td>\n",
       "      <td>-0.110316</td>\n",
       "      <td>0.032170</td>\n",
       "      <td>-0.000051</td>\n",
       "      <td>0.068357</td>\n",
       "      <td>0.058891</td>\n",
       "      <td>0.039898</td>\n",
       "      <td>0.036266</td>\n",
       "      <td>-0.036170</td>\n",
       "      <td>0.036170</td>\n",
       "    </tr>\n",
       "    <tr>\n",
       "      <th>cb_person_cred_hist_length</th>\n",
       "      <td>0.859544</td>\n",
       "      <td>0.117076</td>\n",
       "      <td>0.146336</td>\n",
       "      <td>0.045294</td>\n",
       "      <td>0.015371</td>\n",
       "      <td>-0.015649</td>\n",
       "      <td>-0.030080</td>\n",
       "      <td>1.000000</td>\n",
       "      <td>0.022839</td>\n",
       "      <td>-0.006139</td>\n",
       "      <td>...</td>\n",
       "      <td>-0.006661</td>\n",
       "      <td>-0.010048</td>\n",
       "      <td>-0.004385</td>\n",
       "      <td>0.007678</td>\n",
       "      <td>0.009815</td>\n",
       "      <td>-0.002396</td>\n",
       "      <td>0.008240</td>\n",
       "      <td>0.006516</td>\n",
       "      <td>-0.008396</td>\n",
       "      <td>0.008396</td>\n",
       "    </tr>\n",
       "    <tr>\n",
       "      <th>person_home_ownership_MORTGAGE</th>\n",
       "      <td>0.034111</td>\n",
       "      <td>0.200770</td>\n",
       "      <td>0.222190</td>\n",
       "      <td>0.129524</td>\n",
       "      <td>-0.133444</td>\n",
       "      <td>-0.184466</td>\n",
       "      <td>-0.145138</td>\n",
       "      <td>0.022839</td>\n",
       "      <td>1.000000</td>\n",
       "      <td>-0.048043</td>\n",
       "      <td>...</td>\n",
       "      <td>-0.019581</td>\n",
       "      <td>0.133196</td>\n",
       "      <td>-0.035889</td>\n",
       "      <td>-0.062088</td>\n",
       "      <td>-0.056696</td>\n",
       "      <td>-0.021290</td>\n",
       "      <td>0.004064</td>\n",
       "      <td>0.005770</td>\n",
       "      <td>0.061515</td>\n",
       "      <td>-0.061515</td>\n",
       "    </tr>\n",
       "    <tr>\n",
       "      <th>person_home_ownership_OTHER</th>\n",
       "      <td>-0.007484</td>\n",
       "      <td>0.011440</td>\n",
       "      <td>-0.013098</td>\n",
       "      <td>0.013350</td>\n",
       "      <td>0.017606</td>\n",
       "      <td>0.009840</td>\n",
       "      <td>0.010892</td>\n",
       "      <td>-0.006139</td>\n",
       "      <td>-0.048043</td>\n",
       "      <td>1.000000</td>\n",
       "      <td>...</td>\n",
       "      <td>0.013805</td>\n",
       "      <td>-0.008919</td>\n",
       "      <td>-0.000048</td>\n",
       "      <td>-0.004138</td>\n",
       "      <td>0.010279</td>\n",
       "      <td>0.011185</td>\n",
       "      <td>0.009425</td>\n",
       "      <td>-0.002607</td>\n",
       "      <td>-0.009971</td>\n",
       "      <td>0.009971</td>\n",
       "    </tr>\n",
       "    <tr>\n",
       "      <th>person_home_ownership_OWN</th>\n",
       "      <td>0.002184</td>\n",
       "      <td>-0.032780</td>\n",
       "      <td>0.026847</td>\n",
       "      <td>-0.023913</td>\n",
       "      <td>-0.006777</td>\n",
       "      <td>-0.104832</td>\n",
       "      <td>0.041458</td>\n",
       "      <td>0.008883</td>\n",
       "      <td>-0.241028</td>\n",
       "      <td>-0.016521</td>\n",
       "      <td>...</td>\n",
       "      <td>0.094866</td>\n",
       "      <td>0.010448</td>\n",
       "      <td>-0.000967</td>\n",
       "      <td>-0.004346</td>\n",
       "      <td>0.000577</td>\n",
       "      <td>-0.014992</td>\n",
       "      <td>-0.004625</td>\n",
       "      <td>0.001402</td>\n",
       "      <td>-0.000140</td>\n",
       "      <td>0.000140</td>\n",
       "    </tr>\n",
       "    <tr>\n",
       "      <th>person_home_ownership_RENT</th>\n",
       "      <td>-0.033889</td>\n",
       "      <td>-0.181544</td>\n",
       "      <td>-0.231535</td>\n",
       "      <td>-0.116333</td>\n",
       "      <td>0.132972</td>\n",
       "      <td>0.236239</td>\n",
       "      <td>0.119602</td>\n",
       "      <td>-0.026508</td>\n",
       "      <td>-0.850872</td>\n",
       "      <td>-0.058324</td>\n",
       "      <td>...</td>\n",
       "      <td>-0.032750</td>\n",
       "      <td>-0.135673</td>\n",
       "      <td>0.035855</td>\n",
       "      <td>0.063913</td>\n",
       "      <td>0.054337</td>\n",
       "      <td>0.027654</td>\n",
       "      <td>-0.002620</td>\n",
       "      <td>-0.006128</td>\n",
       "      <td>-0.059349</td>\n",
       "      <td>0.059349</td>\n",
       "    </tr>\n",
       "    <tr>\n",
       "      <th>loan_intent_DEBTCONSOLIDATION</th>\n",
       "      <td>-0.007872</td>\n",
       "      <td>0.002564</td>\n",
       "      <td>-0.000650</td>\n",
       "      <td>0.000573</td>\n",
       "      <td>-0.002353</td>\n",
       "      <td>0.071145</td>\n",
       "      <td>0.004749</td>\n",
       "      <td>-0.009482</td>\n",
       "      <td>0.026140</td>\n",
       "      <td>-0.001641</td>\n",
       "      <td>...</td>\n",
       "      <td>-0.200303</td>\n",
       "      <td>0.007168</td>\n",
       "      <td>-0.009349</td>\n",
       "      <td>0.001328</td>\n",
       "      <td>0.004891</td>\n",
       "      <td>-0.007604</td>\n",
       "      <td>0.004130</td>\n",
       "      <td>-0.002955</td>\n",
       "      <td>0.000109</td>\n",
       "      <td>-0.000109</td>\n",
       "    </tr>\n",
       "    <tr>\n",
       "      <th>loan_intent_EDUCATION</th>\n",
       "      <td>-0.091197</td>\n",
       "      <td>-0.017324</td>\n",
       "      <td>-0.039093</td>\n",
       "      <td>-0.010656</td>\n",
       "      <td>-0.008847</td>\n",
       "      <td>-0.056138</td>\n",
       "      <td>-0.000986</td>\n",
       "      <td>-0.078102</td>\n",
       "      <td>-0.005591</td>\n",
       "      <td>-0.007219</td>\n",
       "      <td>...</td>\n",
       "      <td>-0.229394</td>\n",
       "      <td>0.007885</td>\n",
       "      <td>-0.007811</td>\n",
       "      <td>0.014212</td>\n",
       "      <td>-0.015695</td>\n",
       "      <td>-0.001672</td>\n",
       "      <td>-0.002699</td>\n",
       "      <td>-0.005305</td>\n",
       "      <td>0.005345</td>\n",
       "      <td>-0.005345</td>\n",
       "    </tr>\n",
       "    <tr>\n",
       "      <th>loan_intent_HOMEIMPROVEMENT</th>\n",
       "      <td>0.076256</td>\n",
       "      <td>0.044661</td>\n",
       "      <td>0.027802</td>\n",
       "      <td>0.042043</td>\n",
       "      <td>0.020416</td>\n",
       "      <td>0.034534</td>\n",
       "      <td>-0.019208</td>\n",
       "      <td>0.059865</td>\n",
       "      <td>0.051848</td>\n",
       "      <td>0.000975</td>\n",
       "      <td>...</td>\n",
       "      <td>-0.163085</td>\n",
       "      <td>-0.012730</td>\n",
       "      <td>-0.008533</td>\n",
       "      <td>-0.005667</td>\n",
       "      <td>0.025976</td>\n",
       "      <td>0.019280</td>\n",
       "      <td>0.004769</td>\n",
       "      <td>0.005896</td>\n",
       "      <td>-0.015688</td>\n",
       "      <td>0.015688</td>\n",
       "    </tr>\n",
       "    <tr>\n",
       "      <th>loan_intent_MEDICAL</th>\n",
       "      <td>0.015694</td>\n",
       "      <td>-0.037293</td>\n",
       "      <td>-0.004795</td>\n",
       "      <td>-0.023497</td>\n",
       "      <td>0.005831</td>\n",
       "      <td>0.059955</td>\n",
       "      <td>0.015161</td>\n",
       "      <td>0.012915</td>\n",
       "      <td>-0.052475</td>\n",
       "      <td>-0.005306</td>\n",
       "      <td>...</td>\n",
       "      <td>-0.219021</td>\n",
       "      <td>-0.008567</td>\n",
       "      <td>0.007654</td>\n",
       "      <td>0.004436</td>\n",
       "      <td>-0.004060</td>\n",
       "      <td>-0.004087</td>\n",
       "      <td>0.007791</td>\n",
       "      <td>0.000189</td>\n",
       "      <td>0.000978</td>\n",
       "      <td>-0.000978</td>\n",
       "    </tr>\n",
       "    <tr>\n",
       "      <th>loan_intent_PERSONAL</th>\n",
       "      <td>0.034291</td>\n",
       "      <td>0.014202</td>\n",
       "      <td>0.012491</td>\n",
       "      <td>0.000655</td>\n",
       "      <td>-0.002660</td>\n",
       "      <td>-0.021054</td>\n",
       "      <td>-0.003967</td>\n",
       "      <td>0.035446</td>\n",
       "      <td>0.011005</td>\n",
       "      <td>-0.000013</td>\n",
       "      <td>...</td>\n",
       "      <td>-0.208390</td>\n",
       "      <td>-0.001018</td>\n",
       "      <td>0.009085</td>\n",
       "      <td>-0.010128</td>\n",
       "      <td>0.007286</td>\n",
       "      <td>-0.007123</td>\n",
       "      <td>-0.009378</td>\n",
       "      <td>-0.000098</td>\n",
       "      <td>0.002921</td>\n",
       "      <td>-0.002921</td>\n",
       "    </tr>\n",
       "    <tr>\n",
       "      <th>loan_intent_VENTURE</th>\n",
       "      <td>-0.009734</td>\n",
       "      <td>0.002768</td>\n",
       "      <td>0.011221</td>\n",
       "      <td>-0.000847</td>\n",
       "      <td>-0.008691</td>\n",
       "      <td>-0.078644</td>\n",
       "      <td>0.000821</td>\n",
       "      <td>-0.006661</td>\n",
       "      <td>-0.019581</td>\n",
       "      <td>0.013805</td>\n",
       "      <td>...</td>\n",
       "      <td>1.000000</td>\n",
       "      <td>0.005121</td>\n",
       "      <td>0.007491</td>\n",
       "      <td>-0.006037</td>\n",
       "      <td>-0.012818</td>\n",
       "      <td>0.004327</td>\n",
       "      <td>-0.003779</td>\n",
       "      <td>0.003442</td>\n",
       "      <td>0.003396</td>\n",
       "      <td>-0.003396</td>\n",
       "    </tr>\n",
       "    <tr>\n",
       "      <th>loan_grade_A</th>\n",
       "      <td>-0.005919</td>\n",
       "      <td>0.004253</td>\n",
       "      <td>0.056538</td>\n",
       "      <td>-0.119054</td>\n",
       "      <td>-0.799456</td>\n",
       "      <td>-0.204428</td>\n",
       "      <td>-0.110316</td>\n",
       "      <td>-0.010048</td>\n",
       "      <td>0.133196</td>\n",
       "      <td>-0.008919</td>\n",
       "      <td>...</td>\n",
       "      <td>0.005121</td>\n",
       "      <td>1.000000</td>\n",
       "      <td>-0.479087</td>\n",
       "      <td>-0.348470</td>\n",
       "      <td>-0.250051</td>\n",
       "      <td>-0.123749</td>\n",
       "      <td>-0.059944</td>\n",
       "      <td>-0.031765</td>\n",
       "      <td>0.325543</td>\n",
       "      <td>-0.325543</td>\n",
       "    </tr>\n",
       "    <tr>\n",
       "      <th>loan_grade_B</th>\n",
       "      <td>-0.007165</td>\n",
       "      <td>0.001617</td>\n",
       "      <td>-0.008240</td>\n",
       "      <td>0.043321</td>\n",
       "      <td>-0.007936</td>\n",
       "      <td>-0.096187</td>\n",
       "      <td>0.032170</td>\n",
       "      <td>-0.004385</td>\n",
       "      <td>-0.035889</td>\n",
       "      <td>-0.000048</td>\n",
       "      <td>...</td>\n",
       "      <td>0.007491</td>\n",
       "      <td>-0.479087</td>\n",
       "      <td>1.000000</td>\n",
       "      <td>-0.341565</td>\n",
       "      <td>-0.245097</td>\n",
       "      <td>-0.121297</td>\n",
       "      <td>-0.058756</td>\n",
       "      <td>-0.031136</td>\n",
       "      <td>0.319093</td>\n",
       "      <td>-0.319093</td>\n",
       "    </tr>\n",
       "    <tr>\n",
       "      <th>loan_grade_C</th>\n",
       "      <td>0.003515</td>\n",
       "      <td>-0.006407</td>\n",
       "      <td>-0.043296</td>\n",
       "      <td>-0.028026</td>\n",
       "      <td>0.372469</td>\n",
       "      <td>-0.016435</td>\n",
       "      <td>-0.000051</td>\n",
       "      <td>0.007678</td>\n",
       "      <td>-0.062088</td>\n",
       "      <td>-0.004138</td>\n",
       "      <td>...</td>\n",
       "      <td>-0.006037</td>\n",
       "      <td>-0.348470</td>\n",
       "      <td>-0.341565</td>\n",
       "      <td>1.000000</td>\n",
       "      <td>-0.178274</td>\n",
       "      <td>-0.088227</td>\n",
       "      <td>-0.042737</td>\n",
       "      <td>-0.022647</td>\n",
       "      <td>-0.424764</td>\n",
       "      <td>0.424764</td>\n",
       "    </tr>\n",
       "    <tr>\n",
       "      <th>loan_grade_D</th>\n",
       "      <td>0.011570</td>\n",
       "      <td>-0.013805</td>\n",
       "      <td>-0.006987</td>\n",
       "      <td>0.069097</td>\n",
       "      <td>0.477250</td>\n",
       "      <td>0.325998</td>\n",
       "      <td>0.068357</td>\n",
       "      <td>0.009815</td>\n",
       "      <td>-0.056696</td>\n",
       "      <td>0.010279</td>\n",
       "      <td>...</td>\n",
       "      <td>-0.012818</td>\n",
       "      <td>-0.250051</td>\n",
       "      <td>-0.245097</td>\n",
       "      <td>-0.178274</td>\n",
       "      <td>1.000000</td>\n",
       "      <td>-0.063309</td>\n",
       "      <td>-0.030667</td>\n",
       "      <td>-0.016251</td>\n",
       "      <td>-0.318334</td>\n",
       "      <td>0.318334</td>\n",
       "    </tr>\n",
       "    <tr>\n",
       "      <th>loan_grade_E</th>\n",
       "      <td>0.000494</td>\n",
       "      <td>0.012844</td>\n",
       "      <td>-0.016853</td>\n",
       "      <td>0.091518</td>\n",
       "      <td>0.326998</td>\n",
       "      <td>0.184503</td>\n",
       "      <td>0.058891</td>\n",
       "      <td>-0.002396</td>\n",
       "      <td>-0.021290</td>\n",
       "      <td>0.011185</td>\n",
       "      <td>...</td>\n",
       "      <td>0.004327</td>\n",
       "      <td>-0.123749</td>\n",
       "      <td>-0.121297</td>\n",
       "      <td>-0.088227</td>\n",
       "      <td>-0.063309</td>\n",
       "      <td>1.000000</td>\n",
       "      <td>-0.015177</td>\n",
       "      <td>-0.008042</td>\n",
       "      <td>-0.138220</td>\n",
       "      <td>0.138220</td>\n",
       "    </tr>\n",
       "    <tr>\n",
       "      <th>loan_grade_F</th>\n",
       "      <td>0.009037</td>\n",
       "      <td>0.018467</td>\n",
       "      <td>-0.009858</td>\n",
       "      <td>0.076557</td>\n",
       "      <td>0.200658</td>\n",
       "      <td>0.100320</td>\n",
       "      <td>0.039898</td>\n",
       "      <td>0.008240</td>\n",
       "      <td>0.004064</td>\n",
       "      <td>0.009425</td>\n",
       "      <td>...</td>\n",
       "      <td>-0.003779</td>\n",
       "      <td>-0.059944</td>\n",
       "      <td>-0.058756</td>\n",
       "      <td>-0.042737</td>\n",
       "      <td>-0.030667</td>\n",
       "      <td>-0.015177</td>\n",
       "      <td>1.000000</td>\n",
       "      <td>-0.003896</td>\n",
       "      <td>-0.061920</td>\n",
       "      <td>0.061920</td>\n",
       "    </tr>\n",
       "    <tr>\n",
       "      <th>loan_grade_G</th>\n",
       "      <td>0.004283</td>\n",
       "      <td>0.008996</td>\n",
       "      <td>0.011579</td>\n",
       "      <td>0.060912</td>\n",
       "      <td>0.129607</td>\n",
       "      <td>0.084541</td>\n",
       "      <td>0.036266</td>\n",
       "      <td>0.006516</td>\n",
       "      <td>0.005770</td>\n",
       "      <td>-0.002607</td>\n",
       "      <td>...</td>\n",
       "      <td>0.003442</td>\n",
       "      <td>-0.031765</td>\n",
       "      <td>-0.031136</td>\n",
       "      <td>-0.022647</td>\n",
       "      <td>-0.016251</td>\n",
       "      <td>-0.008042</td>\n",
       "      <td>-0.003896</td>\n",
       "      <td>1.000000</td>\n",
       "      <td>-0.047266</td>\n",
       "      <td>0.047266</td>\n",
       "    </tr>\n",
       "    <tr>\n",
       "      <th>cb_person_default_on_file_N</th>\n",
       "      <td>-0.007765</td>\n",
       "      <td>0.002709</td>\n",
       "      <td>0.027863</td>\n",
       "      <td>-0.040320</td>\n",
       "      <td>-0.500254</td>\n",
       "      <td>-0.182019</td>\n",
       "      <td>-0.036170</td>\n",
       "      <td>-0.008396</td>\n",
       "      <td>0.061515</td>\n",
       "      <td>-0.009971</td>\n",
       "      <td>...</td>\n",
       "      <td>0.003396</td>\n",
       "      <td>0.325543</td>\n",
       "      <td>0.319093</td>\n",
       "      <td>-0.424764</td>\n",
       "      <td>-0.318334</td>\n",
       "      <td>-0.138220</td>\n",
       "      <td>-0.061920</td>\n",
       "      <td>-0.047266</td>\n",
       "      <td>1.000000</td>\n",
       "      <td>-1.000000</td>\n",
       "    </tr>\n",
       "    <tr>\n",
       "      <th>cb_person_default_on_file_Y</th>\n",
       "      <td>0.007765</td>\n",
       "      <td>-0.002709</td>\n",
       "      <td>-0.027863</td>\n",
       "      <td>0.040320</td>\n",
       "      <td>0.500254</td>\n",
       "      <td>0.182019</td>\n",
       "      <td>0.036170</td>\n",
       "      <td>0.008396</td>\n",
       "      <td>-0.061515</td>\n",
       "      <td>0.009971</td>\n",
       "      <td>...</td>\n",
       "      <td>-0.003396</td>\n",
       "      <td>-0.325543</td>\n",
       "      <td>-0.319093</td>\n",
       "      <td>0.424764</td>\n",
       "      <td>0.318334</td>\n",
       "      <td>0.138220</td>\n",
       "      <td>0.061920</td>\n",
       "      <td>0.047266</td>\n",
       "      <td>-1.000000</td>\n",
       "      <td>1.000000</td>\n",
       "    </tr>\n",
       "  </tbody>\n",
       "</table>\n",
       "<p>27 rows × 27 columns</p>\n",
       "</div>"
      ]
     },
     "execution_count": 95,
     "metadata": {},
     "output_type": "execute_result"
    }
   ],
   "execution_count": 95
  },
  {
   "metadata": {
    "ExecuteTime": {
     "end_time": "2024-11-14T23:08:50.489210Z",
     "start_time": "2024-11-14T23:08:08.318039Z"
    }
   },
   "cell_type": "code",
   "source": [
    "# create important ratios for evaluation\n",
    "dummy['loan_to_income_ratio'] = dummy['loan_amnt'] / dummy['person_income']\n",
    "# Create loan-to-employment length ratio\n",
    "dummy['loan_to_emp_length_ratio'] =  dummy['person_emp_length']/ dummy['loan_amnt'] \n",
    "\n",
    "# Create interest rate-to-loan amount ratio\n",
    "dummy['int_rate_to_loan_amt_ratio'] = dummy['loan_int_rate'] / dummy['loan_amnt']\n",
    "\n",
    "dummy"
   ],
   "id": "5746581ac3502629",
   "outputs": [
    {
     "data": {
      "text/plain": [
       "       person_age  person_income  person_emp_length  loan_amnt  loan_int_rate  \\\n",
       "0              22          59000              123.0      35000          16.02   \n",
       "1              21           9600                5.0       1000          11.14   \n",
       "2              25           9600                1.0       5500          12.87   \n",
       "3              23          65500                4.0      35000          15.23   \n",
       "4              24          54400                8.0      35000          14.27   \n",
       "...           ...            ...                ...        ...            ...   \n",
       "32576          57          53000                1.0       5800          13.16   \n",
       "32577          54         120000                4.0      17625           7.49   \n",
       "32578          65          76000                3.0      35000          10.99   \n",
       "32579          56         150000                5.0      15000          11.48   \n",
       "32580          66          42000                2.0       6475           9.99   \n",
       "\n",
       "       loan_status  loan_percent_income  cb_person_cred_hist_length  \\\n",
       "0                1                 0.59                           3   \n",
       "1                0                 0.10                           2   \n",
       "2                1                 0.57                           3   \n",
       "3                1                 0.53                           2   \n",
       "4                1                 0.55                           4   \n",
       "...            ...                  ...                         ...   \n",
       "32576            0                 0.11                          30   \n",
       "32577            0                 0.15                          19   \n",
       "32578            1                 0.46                          28   \n",
       "32579            0                 0.10                          26   \n",
       "32580            0                 0.15                          30   \n",
       "\n",
       "       person_home_ownership_MORTGAGE  person_home_ownership_OTHER  ...  \\\n",
       "0                                   0                            0  ...   \n",
       "1                                   0                            0  ...   \n",
       "2                                   1                            0  ...   \n",
       "3                                   0                            0  ...   \n",
       "4                                   0                            0  ...   \n",
       "...                               ...                          ...  ...   \n",
       "32576                               1                            0  ...   \n",
       "32577                               1                            0  ...   \n",
       "32578                               0                            0  ...   \n",
       "32579                               1                            0  ...   \n",
       "32580                               0                            0  ...   \n",
       "\n",
       "       loan_grade_C  loan_grade_D  loan_grade_E  loan_grade_F  loan_grade_G  \\\n",
       "0                 0             1             0             0             0   \n",
       "1                 0             0             0             0             0   \n",
       "2                 1             0             0             0             0   \n",
       "3                 1             0             0             0             0   \n",
       "4                 1             0             0             0             0   \n",
       "...             ...           ...           ...           ...           ...   \n",
       "32576             1             0             0             0             0   \n",
       "32577             0             0             0             0             0   \n",
       "32578             0             0             0             0             0   \n",
       "32579             0             0             0             0             0   \n",
       "32580             0             0             0             0             0   \n",
       "\n",
       "       cb_person_default_on_file_N  cb_person_default_on_file_Y  \\\n",
       "0                                0                            1   \n",
       "1                                1                            0   \n",
       "2                                1                            0   \n",
       "3                                1                            0   \n",
       "4                                0                            1   \n",
       "...                            ...                          ...   \n",
       "32576                            1                            0   \n",
       "32577                            1                            0   \n",
       "32578                            1                            0   \n",
       "32579                            1                            0   \n",
       "32580                            1                            0   \n",
       "\n",
       "       loan_to_income_ratio  loan_to_emp_length_ratio  \\\n",
       "0                  0.593220                  0.003514   \n",
       "1                  0.104167                  0.005000   \n",
       "2                  0.572917                  0.000182   \n",
       "3                  0.534351                  0.000114   \n",
       "4                  0.643382                  0.000229   \n",
       "...                     ...                       ...   \n",
       "32576              0.109434                  0.000172   \n",
       "32577              0.146875                  0.000227   \n",
       "32578              0.460526                  0.000086   \n",
       "32579              0.100000                  0.000333   \n",
       "32580              0.154167                  0.000309   \n",
       "\n",
       "       int_rate_to_loan_amt_ratio  \n",
       "0                        0.000458  \n",
       "1                        0.011140  \n",
       "2                        0.002340  \n",
       "3                        0.000435  \n",
       "4                        0.000408  \n",
       "...                           ...  \n",
       "32576                    0.002269  \n",
       "32577                    0.000425  \n",
       "32578                    0.000314  \n",
       "32579                    0.000765  \n",
       "32580                    0.001543  \n",
       "\n",
       "[28638 rows x 30 columns]"
      ],
      "text/html": [
       "<div>\n",
       "<style scoped>\n",
       "    .dataframe tbody tr th:only-of-type {\n",
       "        vertical-align: middle;\n",
       "    }\n",
       "\n",
       "    .dataframe tbody tr th {\n",
       "        vertical-align: top;\n",
       "    }\n",
       "\n",
       "    .dataframe thead th {\n",
       "        text-align: right;\n",
       "    }\n",
       "</style>\n",
       "<table border=\"1\" class=\"dataframe\">\n",
       "  <thead>\n",
       "    <tr style=\"text-align: right;\">\n",
       "      <th></th>\n",
       "      <th>person_age</th>\n",
       "      <th>person_income</th>\n",
       "      <th>person_emp_length</th>\n",
       "      <th>loan_amnt</th>\n",
       "      <th>loan_int_rate</th>\n",
       "      <th>loan_status</th>\n",
       "      <th>loan_percent_income</th>\n",
       "      <th>cb_person_cred_hist_length</th>\n",
       "      <th>person_home_ownership_MORTGAGE</th>\n",
       "      <th>person_home_ownership_OTHER</th>\n",
       "      <th>...</th>\n",
       "      <th>loan_grade_C</th>\n",
       "      <th>loan_grade_D</th>\n",
       "      <th>loan_grade_E</th>\n",
       "      <th>loan_grade_F</th>\n",
       "      <th>loan_grade_G</th>\n",
       "      <th>cb_person_default_on_file_N</th>\n",
       "      <th>cb_person_default_on_file_Y</th>\n",
       "      <th>loan_to_income_ratio</th>\n",
       "      <th>loan_to_emp_length_ratio</th>\n",
       "      <th>int_rate_to_loan_amt_ratio</th>\n",
       "    </tr>\n",
       "  </thead>\n",
       "  <tbody>\n",
       "    <tr>\n",
       "      <th>0</th>\n",
       "      <td>22</td>\n",
       "      <td>59000</td>\n",
       "      <td>123.0</td>\n",
       "      <td>35000</td>\n",
       "      <td>16.02</td>\n",
       "      <td>1</td>\n",
       "      <td>0.59</td>\n",
       "      <td>3</td>\n",
       "      <td>0</td>\n",
       "      <td>0</td>\n",
       "      <td>...</td>\n",
       "      <td>0</td>\n",
       "      <td>1</td>\n",
       "      <td>0</td>\n",
       "      <td>0</td>\n",
       "      <td>0</td>\n",
       "      <td>0</td>\n",
       "      <td>1</td>\n",
       "      <td>0.593220</td>\n",
       "      <td>0.003514</td>\n",
       "      <td>0.000458</td>\n",
       "    </tr>\n",
       "    <tr>\n",
       "      <th>1</th>\n",
       "      <td>21</td>\n",
       "      <td>9600</td>\n",
       "      <td>5.0</td>\n",
       "      <td>1000</td>\n",
       "      <td>11.14</td>\n",
       "      <td>0</td>\n",
       "      <td>0.10</td>\n",
       "      <td>2</td>\n",
       "      <td>0</td>\n",
       "      <td>0</td>\n",
       "      <td>...</td>\n",
       "      <td>0</td>\n",
       "      <td>0</td>\n",
       "      <td>0</td>\n",
       "      <td>0</td>\n",
       "      <td>0</td>\n",
       "      <td>1</td>\n",
       "      <td>0</td>\n",
       "      <td>0.104167</td>\n",
       "      <td>0.005000</td>\n",
       "      <td>0.011140</td>\n",
       "    </tr>\n",
       "    <tr>\n",
       "      <th>2</th>\n",
       "      <td>25</td>\n",
       "      <td>9600</td>\n",
       "      <td>1.0</td>\n",
       "      <td>5500</td>\n",
       "      <td>12.87</td>\n",
       "      <td>1</td>\n",
       "      <td>0.57</td>\n",
       "      <td>3</td>\n",
       "      <td>1</td>\n",
       "      <td>0</td>\n",
       "      <td>...</td>\n",
       "      <td>1</td>\n",
       "      <td>0</td>\n",
       "      <td>0</td>\n",
       "      <td>0</td>\n",
       "      <td>0</td>\n",
       "      <td>1</td>\n",
       "      <td>0</td>\n",
       "      <td>0.572917</td>\n",
       "      <td>0.000182</td>\n",
       "      <td>0.002340</td>\n",
       "    </tr>\n",
       "    <tr>\n",
       "      <th>3</th>\n",
       "      <td>23</td>\n",
       "      <td>65500</td>\n",
       "      <td>4.0</td>\n",
       "      <td>35000</td>\n",
       "      <td>15.23</td>\n",
       "      <td>1</td>\n",
       "      <td>0.53</td>\n",
       "      <td>2</td>\n",
       "      <td>0</td>\n",
       "      <td>0</td>\n",
       "      <td>...</td>\n",
       "      <td>1</td>\n",
       "      <td>0</td>\n",
       "      <td>0</td>\n",
       "      <td>0</td>\n",
       "      <td>0</td>\n",
       "      <td>1</td>\n",
       "      <td>0</td>\n",
       "      <td>0.534351</td>\n",
       "      <td>0.000114</td>\n",
       "      <td>0.000435</td>\n",
       "    </tr>\n",
       "    <tr>\n",
       "      <th>4</th>\n",
       "      <td>24</td>\n",
       "      <td>54400</td>\n",
       "      <td>8.0</td>\n",
       "      <td>35000</td>\n",
       "      <td>14.27</td>\n",
       "      <td>1</td>\n",
       "      <td>0.55</td>\n",
       "      <td>4</td>\n",
       "      <td>0</td>\n",
       "      <td>0</td>\n",
       "      <td>...</td>\n",
       "      <td>1</td>\n",
       "      <td>0</td>\n",
       "      <td>0</td>\n",
       "      <td>0</td>\n",
       "      <td>0</td>\n",
       "      <td>0</td>\n",
       "      <td>1</td>\n",
       "      <td>0.643382</td>\n",
       "      <td>0.000229</td>\n",
       "      <td>0.000408</td>\n",
       "    </tr>\n",
       "    <tr>\n",
       "      <th>...</th>\n",
       "      <td>...</td>\n",
       "      <td>...</td>\n",
       "      <td>...</td>\n",
       "      <td>...</td>\n",
       "      <td>...</td>\n",
       "      <td>...</td>\n",
       "      <td>...</td>\n",
       "      <td>...</td>\n",
       "      <td>...</td>\n",
       "      <td>...</td>\n",
       "      <td>...</td>\n",
       "      <td>...</td>\n",
       "      <td>...</td>\n",
       "      <td>...</td>\n",
       "      <td>...</td>\n",
       "      <td>...</td>\n",
       "      <td>...</td>\n",
       "      <td>...</td>\n",
       "      <td>...</td>\n",
       "      <td>...</td>\n",
       "      <td>...</td>\n",
       "    </tr>\n",
       "    <tr>\n",
       "      <th>32576</th>\n",
       "      <td>57</td>\n",
       "      <td>53000</td>\n",
       "      <td>1.0</td>\n",
       "      <td>5800</td>\n",
       "      <td>13.16</td>\n",
       "      <td>0</td>\n",
       "      <td>0.11</td>\n",
       "      <td>30</td>\n",
       "      <td>1</td>\n",
       "      <td>0</td>\n",
       "      <td>...</td>\n",
       "      <td>1</td>\n",
       "      <td>0</td>\n",
       "      <td>0</td>\n",
       "      <td>0</td>\n",
       "      <td>0</td>\n",
       "      <td>1</td>\n",
       "      <td>0</td>\n",
       "      <td>0.109434</td>\n",
       "      <td>0.000172</td>\n",
       "      <td>0.002269</td>\n",
       "    </tr>\n",
       "    <tr>\n",
       "      <th>32577</th>\n",
       "      <td>54</td>\n",
       "      <td>120000</td>\n",
       "      <td>4.0</td>\n",
       "      <td>17625</td>\n",
       "      <td>7.49</td>\n",
       "      <td>0</td>\n",
       "      <td>0.15</td>\n",
       "      <td>19</td>\n",
       "      <td>1</td>\n",
       "      <td>0</td>\n",
       "      <td>...</td>\n",
       "      <td>0</td>\n",
       "      <td>0</td>\n",
       "      <td>0</td>\n",
       "      <td>0</td>\n",
       "      <td>0</td>\n",
       "      <td>1</td>\n",
       "      <td>0</td>\n",
       "      <td>0.146875</td>\n",
       "      <td>0.000227</td>\n",
       "      <td>0.000425</td>\n",
       "    </tr>\n",
       "    <tr>\n",
       "      <th>32578</th>\n",
       "      <td>65</td>\n",
       "      <td>76000</td>\n",
       "      <td>3.0</td>\n",
       "      <td>35000</td>\n",
       "      <td>10.99</td>\n",
       "      <td>1</td>\n",
       "      <td>0.46</td>\n",
       "      <td>28</td>\n",
       "      <td>0</td>\n",
       "      <td>0</td>\n",
       "      <td>...</td>\n",
       "      <td>0</td>\n",
       "      <td>0</td>\n",
       "      <td>0</td>\n",
       "      <td>0</td>\n",
       "      <td>0</td>\n",
       "      <td>1</td>\n",
       "      <td>0</td>\n",
       "      <td>0.460526</td>\n",
       "      <td>0.000086</td>\n",
       "      <td>0.000314</td>\n",
       "    </tr>\n",
       "    <tr>\n",
       "      <th>32579</th>\n",
       "      <td>56</td>\n",
       "      <td>150000</td>\n",
       "      <td>5.0</td>\n",
       "      <td>15000</td>\n",
       "      <td>11.48</td>\n",
       "      <td>0</td>\n",
       "      <td>0.10</td>\n",
       "      <td>26</td>\n",
       "      <td>1</td>\n",
       "      <td>0</td>\n",
       "      <td>...</td>\n",
       "      <td>0</td>\n",
       "      <td>0</td>\n",
       "      <td>0</td>\n",
       "      <td>0</td>\n",
       "      <td>0</td>\n",
       "      <td>1</td>\n",
       "      <td>0</td>\n",
       "      <td>0.100000</td>\n",
       "      <td>0.000333</td>\n",
       "      <td>0.000765</td>\n",
       "    </tr>\n",
       "    <tr>\n",
       "      <th>32580</th>\n",
       "      <td>66</td>\n",
       "      <td>42000</td>\n",
       "      <td>2.0</td>\n",
       "      <td>6475</td>\n",
       "      <td>9.99</td>\n",
       "      <td>0</td>\n",
       "      <td>0.15</td>\n",
       "      <td>30</td>\n",
       "      <td>0</td>\n",
       "      <td>0</td>\n",
       "      <td>...</td>\n",
       "      <td>0</td>\n",
       "      <td>0</td>\n",
       "      <td>0</td>\n",
       "      <td>0</td>\n",
       "      <td>0</td>\n",
       "      <td>1</td>\n",
       "      <td>0</td>\n",
       "      <td>0.154167</td>\n",
       "      <td>0.000309</td>\n",
       "      <td>0.001543</td>\n",
       "    </tr>\n",
       "  </tbody>\n",
       "</table>\n",
       "<p>28638 rows × 30 columns</p>\n",
       "</div>"
      ]
     },
     "execution_count": 96,
     "metadata": {},
     "output_type": "execute_result"
    }
   ],
   "execution_count": 96
  },
  {
   "metadata": {
    "ExecuteTime": {
     "end_time": "2024-11-14T23:08:50.489461Z",
     "start_time": "2024-11-14T23:08:08.391293Z"
    }
   },
   "cell_type": "code",
   "source": "",
   "id": "5e7fbaa90304e72c",
   "outputs": [
    {
     "ename": "KeyError",
     "evalue": "'loan_grade'",
     "output_type": "error",
     "traceback": [
      "\u001B[0;31m---------------------------------------------------------------------------\u001B[0m",
      "\u001B[0;31mKeyError\u001B[0m                                  Traceback (most recent call last)",
      "File \u001B[0;32m~/miniconda3/envs/db/lib/python3.12/site-packages/pandas/core/indexes/base.py:3805\u001B[0m, in \u001B[0;36mIndex.get_loc\u001B[0;34m(self, key)\u001B[0m\n\u001B[1;32m   3804\u001B[0m \u001B[38;5;28;01mtry\u001B[39;00m:\n\u001B[0;32m-> 3805\u001B[0m     \u001B[38;5;28;01mreturn\u001B[39;00m \u001B[38;5;28;43mself\u001B[39;49m\u001B[38;5;241;43m.\u001B[39;49m\u001B[43m_engine\u001B[49m\u001B[38;5;241;43m.\u001B[39;49m\u001B[43mget_loc\u001B[49m\u001B[43m(\u001B[49m\u001B[43mcasted_key\u001B[49m\u001B[43m)\u001B[49m\n\u001B[1;32m   3806\u001B[0m \u001B[38;5;28;01mexcept\u001B[39;00m \u001B[38;5;167;01mKeyError\u001B[39;00m \u001B[38;5;28;01mas\u001B[39;00m err:\n",
      "File \u001B[0;32mindex.pyx:167\u001B[0m, in \u001B[0;36mpandas._libs.index.IndexEngine.get_loc\u001B[0;34m()\u001B[0m\n",
      "File \u001B[0;32mindex.pyx:175\u001B[0m, in \u001B[0;36mpandas._libs.index.IndexEngine.get_loc\u001B[0;34m()\u001B[0m\n",
      "File \u001B[0;32mpandas/_libs/index_class_helper.pxi:70\u001B[0m, in \u001B[0;36mpandas._libs.index.Int64Engine._check_type\u001B[0;34m()\u001B[0m\n",
      "\u001B[0;31mKeyError\u001B[0m: 'loan_grade'",
      "\nThe above exception was the direct cause of the following exception:\n",
      "\u001B[0;31mKeyError\u001B[0m                                  Traceback (most recent call last)",
      "Cell \u001B[0;32mIn[97], line 3\u001B[0m\n\u001B[1;32m      1\u001B[0m fig \u001B[38;5;241m=\u001B[39m px\u001B[38;5;241m.\u001B[39mpie(\n\u001B[1;32m      2\u001B[0m     cdr_data_clean,\n\u001B[0;32m----> 3\u001B[0m         values\u001B[38;5;241m=\u001B[39m\u001B[43mcdr_data_clean\u001B[49m\u001B[38;5;241;43m.\u001B[39;49m\u001B[43mloc\u001B[49m\u001B[43m[\u001B[49m\u001B[38;5;124;43m'\u001B[39;49m\u001B[38;5;124;43mloan_grade\u001B[39;49m\u001B[38;5;124;43m'\u001B[39;49m\u001B[43m]\u001B[49m\u001B[38;5;241m.\u001B[39mvalue_counts(),\n\u001B[1;32m      4\u001B[0m         names\u001B[38;5;241m=\u001B[39mcdr_data_clean\u001B[38;5;241m.\u001B[39mindex,\n\u001B[1;32m      5\u001B[0m         color_discrete_sequence\u001B[38;5;241m=\u001B[39mpx\u001B[38;5;241m.\u001B[39mcolors\u001B[38;5;241m.\u001B[39msequential\u001B[38;5;241m.\u001B[39mMint,\n\u001B[1;32m      6\u001B[0m         title\u001B[38;5;241m=\u001B[39m \u001B[38;5;124m'\u001B[39m\u001B[38;5;124mloan_grade\u001B[39m\u001B[38;5;124m'\u001B[39m\n\u001B[1;32m      7\u001B[0m           )\n",
      "File \u001B[0;32m~/miniconda3/envs/db/lib/python3.12/site-packages/pandas/core/indexing.py:1191\u001B[0m, in \u001B[0;36m_LocationIndexer.__getitem__\u001B[0;34m(self, key)\u001B[0m\n\u001B[1;32m   1189\u001B[0m maybe_callable \u001B[38;5;241m=\u001B[39m com\u001B[38;5;241m.\u001B[39mapply_if_callable(key, \u001B[38;5;28mself\u001B[39m\u001B[38;5;241m.\u001B[39mobj)\n\u001B[1;32m   1190\u001B[0m maybe_callable \u001B[38;5;241m=\u001B[39m \u001B[38;5;28mself\u001B[39m\u001B[38;5;241m.\u001B[39m_check_deprecated_callable_usage(key, maybe_callable)\n\u001B[0;32m-> 1191\u001B[0m \u001B[38;5;28;01mreturn\u001B[39;00m \u001B[38;5;28;43mself\u001B[39;49m\u001B[38;5;241;43m.\u001B[39;49m\u001B[43m_getitem_axis\u001B[49m\u001B[43m(\u001B[49m\u001B[43mmaybe_callable\u001B[49m\u001B[43m,\u001B[49m\u001B[43m \u001B[49m\u001B[43maxis\u001B[49m\u001B[38;5;241;43m=\u001B[39;49m\u001B[43maxis\u001B[49m\u001B[43m)\u001B[49m\n",
      "File \u001B[0;32m~/miniconda3/envs/db/lib/python3.12/site-packages/pandas/core/indexing.py:1431\u001B[0m, in \u001B[0;36m_LocIndexer._getitem_axis\u001B[0;34m(self, key, axis)\u001B[0m\n\u001B[1;32m   1429\u001B[0m \u001B[38;5;66;03m# fall thru to straight lookup\u001B[39;00m\n\u001B[1;32m   1430\u001B[0m \u001B[38;5;28mself\u001B[39m\u001B[38;5;241m.\u001B[39m_validate_key(key, axis)\n\u001B[0;32m-> 1431\u001B[0m \u001B[38;5;28;01mreturn\u001B[39;00m \u001B[38;5;28;43mself\u001B[39;49m\u001B[38;5;241;43m.\u001B[39;49m\u001B[43m_get_label\u001B[49m\u001B[43m(\u001B[49m\u001B[43mkey\u001B[49m\u001B[43m,\u001B[49m\u001B[43m \u001B[49m\u001B[43maxis\u001B[49m\u001B[38;5;241;43m=\u001B[39;49m\u001B[43maxis\u001B[49m\u001B[43m)\u001B[49m\n",
      "File \u001B[0;32m~/miniconda3/envs/db/lib/python3.12/site-packages/pandas/core/indexing.py:1381\u001B[0m, in \u001B[0;36m_LocIndexer._get_label\u001B[0;34m(self, label, axis)\u001B[0m\n\u001B[1;32m   1379\u001B[0m \u001B[38;5;28;01mdef\u001B[39;00m \u001B[38;5;21m_get_label\u001B[39m(\u001B[38;5;28mself\u001B[39m, label, axis: AxisInt):\n\u001B[1;32m   1380\u001B[0m     \u001B[38;5;66;03m# GH#5567 this will fail if the label is not present in the axis.\u001B[39;00m\n\u001B[0;32m-> 1381\u001B[0m     \u001B[38;5;28;01mreturn\u001B[39;00m \u001B[38;5;28;43mself\u001B[39;49m\u001B[38;5;241;43m.\u001B[39;49m\u001B[43mobj\u001B[49m\u001B[38;5;241;43m.\u001B[39;49m\u001B[43mxs\u001B[49m\u001B[43m(\u001B[49m\u001B[43mlabel\u001B[49m\u001B[43m,\u001B[49m\u001B[43m \u001B[49m\u001B[43maxis\u001B[49m\u001B[38;5;241;43m=\u001B[39;49m\u001B[43maxis\u001B[49m\u001B[43m)\u001B[49m\n",
      "File \u001B[0;32m~/miniconda3/envs/db/lib/python3.12/site-packages/pandas/core/generic.py:4301\u001B[0m, in \u001B[0;36mNDFrame.xs\u001B[0;34m(self, key, axis, level, drop_level)\u001B[0m\n\u001B[1;32m   4299\u001B[0m             new_index \u001B[38;5;241m=\u001B[39m index[loc]\n\u001B[1;32m   4300\u001B[0m \u001B[38;5;28;01melse\u001B[39;00m:\n\u001B[0;32m-> 4301\u001B[0m     loc \u001B[38;5;241m=\u001B[39m \u001B[43mindex\u001B[49m\u001B[38;5;241;43m.\u001B[39;49m\u001B[43mget_loc\u001B[49m\u001B[43m(\u001B[49m\u001B[43mkey\u001B[49m\u001B[43m)\u001B[49m\n\u001B[1;32m   4303\u001B[0m     \u001B[38;5;28;01mif\u001B[39;00m \u001B[38;5;28misinstance\u001B[39m(loc, np\u001B[38;5;241m.\u001B[39mndarray):\n\u001B[1;32m   4304\u001B[0m         \u001B[38;5;28;01mif\u001B[39;00m loc\u001B[38;5;241m.\u001B[39mdtype \u001B[38;5;241m==\u001B[39m np\u001B[38;5;241m.\u001B[39mbool_:\n",
      "File \u001B[0;32m~/miniconda3/envs/db/lib/python3.12/site-packages/pandas/core/indexes/base.py:3812\u001B[0m, in \u001B[0;36mIndex.get_loc\u001B[0;34m(self, key)\u001B[0m\n\u001B[1;32m   3807\u001B[0m     \u001B[38;5;28;01mif\u001B[39;00m \u001B[38;5;28misinstance\u001B[39m(casted_key, \u001B[38;5;28mslice\u001B[39m) \u001B[38;5;129;01mor\u001B[39;00m (\n\u001B[1;32m   3808\u001B[0m         \u001B[38;5;28misinstance\u001B[39m(casted_key, abc\u001B[38;5;241m.\u001B[39mIterable)\n\u001B[1;32m   3809\u001B[0m         \u001B[38;5;129;01mand\u001B[39;00m \u001B[38;5;28many\u001B[39m(\u001B[38;5;28misinstance\u001B[39m(x, \u001B[38;5;28mslice\u001B[39m) \u001B[38;5;28;01mfor\u001B[39;00m x \u001B[38;5;129;01min\u001B[39;00m casted_key)\n\u001B[1;32m   3810\u001B[0m     ):\n\u001B[1;32m   3811\u001B[0m         \u001B[38;5;28;01mraise\u001B[39;00m InvalidIndexError(key)\n\u001B[0;32m-> 3812\u001B[0m     \u001B[38;5;28;01mraise\u001B[39;00m \u001B[38;5;167;01mKeyError\u001B[39;00m(key) \u001B[38;5;28;01mfrom\u001B[39;00m \u001B[38;5;21;01merr\u001B[39;00m\n\u001B[1;32m   3813\u001B[0m \u001B[38;5;28;01mexcept\u001B[39;00m \u001B[38;5;167;01mTypeError\u001B[39;00m:\n\u001B[1;32m   3814\u001B[0m     \u001B[38;5;66;03m# If we have a listlike key, _check_indexing_error will raise\u001B[39;00m\n\u001B[1;32m   3815\u001B[0m     \u001B[38;5;66;03m#  InvalidIndexError. Otherwise we fall through and re-raise\u001B[39;00m\n\u001B[1;32m   3816\u001B[0m     \u001B[38;5;66;03m#  the TypeError.\u001B[39;00m\n\u001B[1;32m   3817\u001B[0m     \u001B[38;5;28mself\u001B[39m\u001B[38;5;241m.\u001B[39m_check_indexing_error(key)\n",
      "\u001B[0;31mKeyError\u001B[0m: 'loan_grade'"
     ]
    }
   ],
   "execution_count": 97
  },
  {
   "metadata": {
    "ExecuteTime": {
     "end_time": "2024-11-14T23:08:50.489527Z",
     "start_time": "2024-11-14T22:51:48.928897Z"
    }
   },
   "cell_type": "code",
   "source": [
    "# Pre process and create a copy of the dataset and improve the accuracy of the model by dropping the outcome to prevent bias\n",
    "# also ensure the data is the same shape so that it can be trained\n",
    "train_dat = dummy.copy()\n",
    "X = train_dat.drop(['loan_status'],axis=1)\n",
    "Y = cdr_data_clean['loan_status']\n",
    "X.shape,Y.shape "
   ],
   "id": "2ed9d1385c1f815",
   "outputs": [
    {
     "data": {
      "text/plain": [
       "((28638, 29), (28638,))"
      ]
     },
     "execution_count": 75,
     "metadata": {},
     "output_type": "execute_result"
    }
   ],
   "execution_count": 75
  },
  {
   "metadata": {
    "ExecuteTime": {
     "end_time": "2024-11-14T23:08:50.489592Z",
     "start_time": "2024-11-14T22:51:49.279889Z"
    }
   },
   "cell_type": "code",
   "source": "",
   "id": "d433755d5555847d",
   "outputs": [],
   "execution_count": 76
  },
  {
   "metadata": {
    "ExecuteTime": {
     "end_time": "2024-11-14T23:08:50.489656Z",
     "start_time": "2024-11-14T22:53:06.190024Z"
    }
   },
   "cell_type": "code",
   "source": "",
   "id": "b26eecdceef3e4c5",
   "outputs": [],
   "execution_count": null
  },
  {
   "metadata": {},
   "cell_type": "code",
   "outputs": [],
   "execution_count": null,
   "source": "",
   "id": "ac2538e2f730b9c5"
  }
 ],
 "metadata": {
  "kernelspec": {
   "display_name": "Python 3",
   "language": "python",
   "name": "python3"
  },
  "language_info": {
   "codemirror_mode": {
    "name": "ipython",
    "version": 2
   },
   "file_extension": ".py",
   "mimetype": "text/x-python",
   "name": "python",
   "nbconvert_exporter": "python",
   "pygments_lexer": "ipython2",
   "version": "2.7.6"
  }
 },
 "nbformat": 4,
 "nbformat_minor": 5
}
