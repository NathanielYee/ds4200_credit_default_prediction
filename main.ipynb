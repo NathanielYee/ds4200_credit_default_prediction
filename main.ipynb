{
 "cells": [
  {
   "metadata": {},
   "cell_type": "markdown",
   "source": [
    "### Welcome to our Credit Default Risk Prediction Model\n",
    "#### Team Members: Blythe Berlinger, Luke Brothers, Annie Peak, and Nathaniel Yee\n",
    "#### Date: November 14th, 2024\n",
    "#### Group Number:\n",
    "#### Professor Yang"
   ],
   "id": "e4aa52ad75849fac"
  },
  {
   "metadata": {},
   "cell_type": "code",
   "outputs": [],
   "execution_count": null,
   "source": [
    "import kagglehub\n",
    "\n",
    "# Download latest version\n",
    "path = kagglehub.dataset_download(\"laotse/credit-risk-dataset\")\n",
    "\n",
    "print(\"Path to dataset files:\", path)"
   ],
   "id": "939339344e003088"
  },
  {
   "metadata": {
    "ExecuteTime": {
     "end_time": "2024-11-14T21:28:46.809293Z",
     "start_time": "2024-11-14T21:28:45.607545Z"
    }
   },
   "cell_type": "code",
   "source": [
    "import scipy\n",
    "import statsmodels as sm\n",
    "import sklearn as sk\n",
    "import numpy as np\n",
    "import altair as alt\n",
    "import seaborn as sns\n",
    "import plotly.express as px"
   ],
   "id": "72701f8830a1e1b9",
   "outputs": [],
   "execution_count": 2
  },
  {
   "metadata": {},
   "cell_type": "code",
   "outputs": [],
   "execution_count": null,
   "source": "",
   "id": "6c191798c0adf1ea"
  }
 ],
 "metadata": {
  "kernelspec": {
   "display_name": "Python 3",
   "language": "python",
   "name": "python3"
  },
  "language_info": {
   "codemirror_mode": {
    "name": "ipython",
    "version": 2
   },
   "file_extension": ".py",
   "mimetype": "text/x-python",
   "name": "python",
   "nbconvert_exporter": "python",
   "pygments_lexer": "ipython2",
   "version": "2.7.6"
  }
 },
 "nbformat": 4,
 "nbformat_minor": 5
}
